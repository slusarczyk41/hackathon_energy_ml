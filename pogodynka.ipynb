{
 "cells": [
  {
   "cell_type": "code",
   "execution_count": 204,
   "metadata": {},
   "outputs": [],
   "source": [
    "import pandas as pd"
   ]
  },
  {
   "cell_type": "code",
   "execution_count": 205,
   "metadata": {},
   "outputs": [],
   "source": [
    "cols = \"\"\"Kod stacji\n",
    "Nazwa stacji\n",
    "Rok\n",
    "Miesiac\n",
    "Dzien\n",
    "Godzina\n",
    "Wysokosc podstawy chmur CL CM szyfrowana [kod]\n",
    "Status pomiaru HPOD\n",
    "Wysokosc podstawy nizszej\n",
    "Status pomiaru HPON\n",
    "Wysokosc podstawy wyzszej [m]\n",
    "Status pomiaru HPOW\n",
    "Wysokosc podstawy tekstowy [opis]\n",
    "Pomiar przyrzadem 1 (nizsza) [P]\n",
    "Pomiar przyrzadem 2 (wyzsza) [P]\n",
    "Widzialnosc\n",
    "Status pomiaru WID\n",
    "Widzialnosc operatora [m]\n",
    "Status pomiaru WIDO\n",
    "Widzialnosc automat [m]\n",
    "Status pomiaru WIDA\n",
    "Zachmurzenie ogolne [oktanty]\n",
    "Status pomiaru NOG\n",
    "Kierunek wiatru\n",
    "Status pomiaru KRWR\n",
    "Predkosc wiatru\n",
    "Status pomiaru FWR\n",
    "Poryw wiatru\n",
    "Status pomiaru PORW\n",
    "Temperatura powietrza [°C]\n",
    "Status pomiaru TEMP\n",
    "Temperatura termometru zwilzonego [°C]\n",
    "Status pomiaru TTZW\n",
    "Wskaznik wentylacji [W/N]\n",
    "Wskaznik lodu\n",
    "Cisnienie pary wodnej [hPa]\n",
    "Status pomiaru CPW\n",
    "Wilgotnosc wzgledna [%]\n",
    "Status pomiaru WLGW\n",
    "Temperatura punktu rosy [°C]\n",
    "Status pomiaru TPTR\n",
    "Cisnienie na pozimie stacji [hPa]\n",
    "Status pomiaru PPPS\n",
    "Cisnienie na pozimie morza [hPa]\n",
    "Status pomiaru PPPM\n",
    "Charakterystyka tendencji [kod]\n",
    "Wartosc tendencji [wartosc]\n",
    "Status pomiaru APP\n",
    "Opad za 6 godzin [mm]\n",
    "Status pomiaru WO6G\n",
    "Rodzaj opadu za 6 godzin [kod]\n",
    "Status pomiaru ROPT\n",
    "Pogoda biezaca [kod]\n",
    "Pogoda ubiegla [kod]\n",
    "Zachmurzenie niskie [oktanty]\n",
    "Status pomiaru CLCM\n",
    "Chmury CL [kod]\n",
    "Status pomiaru CHCL\n",
    "Chmury CL tekstem\n",
    "Chmury CM [kod]\n",
    "Status pomiaru CHCM\n",
    "Chmury CM tekstem\n",
    "Chmury CH [kod]\n",
    "Status pomiaru CHCH\n",
    "Chmury CH tekstem\n",
    "Stan gruntu [kod]\n",
    "Status pomiaru SGRN\n",
    "Niedosyt wilgotnoci [hPa]\n",
    "Status pomiaru DEFI\n",
    "Uslonecznienie\n",
    "Status pomiaru USLN\n",
    "Wystapienie rosy [0/1]\n",
    "Status pomiaru ROSW\n",
    "Poryw maksymalny za okres WW [m/s]\n",
    "Status pomiaru PORK\n",
    "Godzina wystapienia porywu\n",
    "Minuta wystapienia porywu\n",
    "Temperatura gruntu -5 [°C]\n",
    "Status pomiaru TG05\n",
    "Temperatura gruntu -10 [°C]\n",
    "Status pomiaru TG10\n",
    "Temperatura gruntu -20 [°C]\n",
    "Status pomiaru TG20\n",
    "Temperatura gruntu -50 [°C]\n",
    "Status pomiaru TG50\n",
    "Temperatura gruntu -100 [°C]\n",
    "Status pomiaru TG100\n",
    "Temperatura minimalna za 12 godzin\n",
    "Status pomiaru TMIN\n",
    "Temperatura maksymalna za 12 godzin [°C]\n",
    "Status pomiaru TMAX\n",
    "Temperatura minimalna przy gruncie za 12 godzin [°C]\n",
    "Status pomiaru TGMI\n",
    "Rownowaznik wodny sniegu [mm/cm]\n",
    "Status pomiaru RWSN\n",
    "Wysokosc pokrywy snieznej [cm]\n",
    "Status pomiaru PKSN\n",
    "Wysokosc swiezo spadlego sniegu\n",
    "Status pomiaru HSS\n",
    "Wysokosc sniegu na poletku [cm]\n",
    "Status pomiaru GRSN\n",
    "Gatunek sniegu\n",
    "Uksztaltowanie pokrywy [kod]\n",
    "Wysokosc probki [cm]\n",
    "Status pomiaru HPRO\n",
    "Ciezar probki [g]\n",
    "Status pomiaru CIPR\"\"\""
   ]
  },
  {
   "cell_type": "code",
   "execution_count": 206,
   "metadata": {},
   "outputs": [],
   "source": [
    "cols = string_cols.split('\\n')[1:-2]"
   ]
  },
  {
   "cell_type": "code",
   "execution_count": 207,
   "metadata": {},
   "outputs": [
    {
     "data": {
      "text/plain": [
       "107"
      ]
     },
     "execution_count": 207,
     "metadata": {},
     "output_type": "execute_result"
    }
   ],
   "source": [
    "len(cols)"
   ]
  },
  {
   "cell_type": "code",
   "execution_count": 208,
   "metadata": {},
   "outputs": [
    {
     "name": "stderr",
     "output_type": "stream",
     "text": [
      "/usr/lib/python3/dist-packages/IPython/core/interactiveshell.py:2718: DtypeWarning: Columns (6,53,56) have mixed types. Specify dtype option on import or set low_memory=False.\n",
      "  interactivity=interactivity, compiler=compiler, result=result)\n",
      "/usr/lib/python3/dist-packages/IPython/core/interactiveshell.py:2718: DtypeWarning: Columns (34,53) have mixed types. Specify dtype option on import or set low_memory=False.\n",
      "  interactivity=interactivity, compiler=compiler, result=result)\n",
      "/usr/lib/python3/dist-packages/IPython/core/interactiveshell.py:2718: DtypeWarning: Columns (6,14,53,56) have mixed types. Specify dtype option on import or set low_memory=False.\n",
      "  interactivity=interactivity, compiler=compiler, result=result)\n"
     ]
    }
   ],
   "source": [
    "df = pd.concat([\n",
    "    pd.read_csv('gdan/s_t_01_2019_p.csv', header=None),\n",
    "    pd.read_csv('gdan/s_t_02_2019_p.csv', header=None),\n",
    "    pd.read_csv('gdan/s_t_03_2019.csv', header=None),\n",
    "    pd.read_csv('gdan/s_t_04_2019.csv', header=None),\n",
    "])"
   ]
  },
  {
   "cell_type": "code",
   "execution_count": 209,
   "metadata": {},
   "outputs": [
    {
     "data": {
      "text/plain": [
       "Int64Index([  0,   1,   2,   3,   4,   5,   6,   7,   8,   9,\n",
       "            ...\n",
       "             97,  98,  99, 100, 101, 102, 103, 104, 105, 106],\n",
       "           dtype='int64', length=107)"
      ]
     },
     "execution_count": 209,
     "metadata": {},
     "output_type": "execute_result"
    }
   ],
   "source": [
    "df.columns"
   ]
  },
  {
   "cell_type": "code",
   "execution_count": 210,
   "metadata": {},
   "outputs": [],
   "source": [
    "df.columns = cols"
   ]
  },
  {
   "cell_type": "code",
   "execution_count": 211,
   "metadata": {},
   "outputs": [],
   "source": [
    "df = df.dropna(1)"
   ]
  },
  {
   "cell_type": "code",
   "execution_count": 212,
   "metadata": {},
   "outputs": [],
   "source": [
    "#df['date_time'] =   df['Rok'].astype(str) + '-' + \\\n",
    "#                    df['Miesiac'].astype(str).str.zfill(2) + '-' + \\\n",
    "#                    df['Dzien'].astype(str).str.zfill(2) + ' ' + \\\n",
    "#                    df['Godzina'].astype(str).str.zfill(2) + ':00:00'"
   ]
  },
  {
   "cell_type": "code",
   "execution_count": 213,
   "metadata": {},
   "outputs": [],
   "source": [
    "cities = ['TORU�', 'USTKA', '�EBA', 'GDA�SK-�WIBNO']"
   ]
  },
  {
   "cell_type": "code",
   "execution_count": 214,
   "metadata": {},
   "outputs": [],
   "source": [
    "ids = [str(x)[-3:] for x in df[df['Nazwa stacji'].isin(cities)]['Kod stacji'].unique()]"
   ]
  },
  {
   "cell_type": "code",
   "execution_count": 215,
   "metadata": {},
   "outputs": [
    {
     "name": "stderr",
     "output_type": "stream",
     "text": [
      "/usr/lib/python3/dist-packages/IPython/core/interactiveshell.py:2718: DtypeWarning: Columns (6,56) have mixed types. Specify dtype option on import or set low_memory=False.\n",
      "  interactivity=interactivity, compiler=compiler, result=result)\n"
     ]
    }
   ],
   "source": [
    "reads = []\n",
    "for year in ['2016', '2017', '2018']:\n",
    "    for i in ids:\n",
    "        reads.append(pd.read_csv('{}/s_t_{}_{}.csv'.format(year, i, year), header=None))\n",
    "        #print('{}/s_t_{}_{}.csv'.format(year, i, year))"
   ]
  },
  {
   "cell_type": "code",
   "execution_count": 216,
   "metadata": {},
   "outputs": [],
   "source": [
    "older_data = pd.concat(reads, axis=0)"
   ]
  },
  {
   "cell_type": "code",
   "execution_count": 217,
   "metadata": {},
   "outputs": [],
   "source": [
    "older_data.columns = cols"
   ]
  },
  {
   "cell_type": "code",
   "execution_count": 218,
   "metadata": {},
   "outputs": [],
   "source": [
    "older_data = older_data.dropna(1)"
   ]
  },
  {
   "cell_type": "code",
   "execution_count": 219,
   "metadata": {},
   "outputs": [
    {
     "data": {
      "text/html": [
       "<div>\n",
       "<style scoped>\n",
       "    .dataframe tbody tr th:only-of-type {\n",
       "        vertical-align: middle;\n",
       "    }\n",
       "\n",
       "    .dataframe tbody tr th {\n",
       "        vertical-align: top;\n",
       "    }\n",
       "\n",
       "    .dataframe thead th {\n",
       "        text-align: right;\n",
       "    }\n",
       "</style>\n",
       "<table border=\"1\" class=\"dataframe\">\n",
       "  <thead>\n",
       "    <tr style=\"text-align: right;\">\n",
       "      <th></th>\n",
       "      <th>Kod stacji</th>\n",
       "      <th>Nazwa stacji</th>\n",
       "      <th>Rok</th>\n",
       "      <th>Miesiac</th>\n",
       "      <th>Dzien</th>\n",
       "      <th>Godzina</th>\n",
       "      <th>Wysokosc podstawy chmur CL CM szyfrowana [kod]</th>\n",
       "      <th>Wysokosc podstawy nizszej</th>\n",
       "      <th>Wysokosc podstawy wyzszej [m]</th>\n",
       "      <th>Wysokosc podstawy tekstowy [opis]</th>\n",
       "      <th>...</th>\n",
       "      <th>Temperatura gruntu -100 [°C]</th>\n",
       "      <th>Temperatura minimalna za 12 godzin</th>\n",
       "      <th>Temperatura maksymalna za 12 godzin [°C]</th>\n",
       "      <th>Temperatura minimalna przy gruncie za 12 godzin [°C]</th>\n",
       "      <th>Rownowaznik wodny sniegu [mm/cm]</th>\n",
       "      <th>Wysokosc pokrywy snieznej [cm]</th>\n",
       "      <th>Wysokosc swiezo spadlego sniegu</th>\n",
       "      <th>Wysokosc sniegu na poletku [cm]</th>\n",
       "      <th>Wysokosc probki [cm]</th>\n",
       "      <th>Ciezar probki [g]</th>\n",
       "    </tr>\n",
       "  </thead>\n",
       "  <tbody>\n",
       "    <tr>\n",
       "      <th>0</th>\n",
       "      <td>353180250</td>\n",
       "      <td>TORU�</td>\n",
       "      <td>2016</td>\n",
       "      <td>1</td>\n",
       "      <td>1</td>\n",
       "      <td>0</td>\n",
       "      <td>9</td>\n",
       "      <td>0</td>\n",
       "      <td>0</td>\n",
       "      <td>.</td>\n",
       "      <td>...</td>\n",
       "      <td>0.0</td>\n",
       "      <td>0.0</td>\n",
       "      <td>0.0</td>\n",
       "      <td>0.0</td>\n",
       "      <td>0.0</td>\n",
       "      <td>0</td>\n",
       "      <td>0</td>\n",
       "      <td>0</td>\n",
       "      <td>0</td>\n",
       "      <td>0</td>\n",
       "    </tr>\n",
       "    <tr>\n",
       "      <th>1</th>\n",
       "      <td>353180250</td>\n",
       "      <td>TORU�</td>\n",
       "      <td>2016</td>\n",
       "      <td>1</td>\n",
       "      <td>1</td>\n",
       "      <td>1</td>\n",
       "      <td>9</td>\n",
       "      <td>0</td>\n",
       "      <td>0</td>\n",
       "      <td>.</td>\n",
       "      <td>...</td>\n",
       "      <td>0.0</td>\n",
       "      <td>0.0</td>\n",
       "      <td>0.0</td>\n",
       "      <td>0.0</td>\n",
       "      <td>0.0</td>\n",
       "      <td>0</td>\n",
       "      <td>0</td>\n",
       "      <td>0</td>\n",
       "      <td>0</td>\n",
       "      <td>0</td>\n",
       "    </tr>\n",
       "  </tbody>\n",
       "</table>\n",
       "<p>2 rows × 52 columns</p>\n",
       "</div>"
      ],
      "text/plain": [
       "   Kod stacji Nazwa stacji   Rok  Miesiac  Dzien  Godzina  \\\n",
       "0   353180250        TORU�  2016        1      1        0   \n",
       "1   353180250        TORU�  2016        1      1        1   \n",
       "\n",
       "  Wysokosc podstawy chmur CL CM szyfrowana [kod]  Wysokosc podstawy nizszej  \\\n",
       "0                                               9                           0   \n",
       "1                                               9                           0   \n",
       "\n",
       "   Wysokosc podstawy wyzszej [m] Wysokosc podstawy tekstowy [opis]  ...  \\\n",
       "0                               0                                  .  ...   \n",
       "1                               0                                  .  ...   \n",
       "\n",
       "   Temperatura gruntu -100 [°C]  Temperatura minimalna za 12 godzin  \\\n",
       "0                           0.0                                 0.0   \n",
       "1                           0.0                                 0.0   \n",
       "\n",
       "   Temperatura maksymalna za 12 godzin [°C]  \\\n",
       "0                                       0.0   \n",
       "1                                       0.0   \n",
       "\n",
       "   Temperatura minimalna przy gruncie za 12 godzin [°C]  \\\n",
       "0                                                0.0      \n",
       "1                                                0.0      \n",
       "\n",
       "   Rownowaznik wodny sniegu [mm/cm]  Wysokosc pokrywy snieznej [cm]  \\\n",
       "0                                0.0                                 0   \n",
       "1                                0.0                                 0   \n",
       "\n",
       "   Wysokosc swiezo spadlego sniegu  Wysokosc sniegu na poletku [cm]  \\\n",
       "0                                   0                                  0   \n",
       "1                                   0                                  0   \n",
       "\n",
       "   Wysokosc probki [cm]  Ciezar probki [g]  \n",
       "0                      0                  0  \n",
       "1                      0                  0  \n",
       "\n",
       "[2 rows x 52 columns]"
      ]
     },
     "execution_count": 219,
     "metadata": {},
     "output_type": "execute_result"
    }
   ],
   "source": [
    "older_data.head(2)"
   ]
  },
  {
   "cell_type": "code",
   "execution_count": 220,
   "metadata": {},
   "outputs": [
    {
     "data": {
      "text/html": [
       "<div>\n",
       "<style scoped>\n",
       "    .dataframe tbody tr th:only-of-type {\n",
       "        vertical-align: middle;\n",
       "    }\n",
       "\n",
       "    .dataframe tbody tr th {\n",
       "        vertical-align: top;\n",
       "    }\n",
       "\n",
       "    .dataframe thead th {\n",
       "        text-align: right;\n",
       "    }\n",
       "</style>\n",
       "<table border=\"1\" class=\"dataframe\">\n",
       "  <thead>\n",
       "    <tr style=\"text-align: right;\">\n",
       "      <th></th>\n",
       "      <th>Kod stacji</th>\n",
       "      <th>Nazwa stacji</th>\n",
       "      <th>Rok</th>\n",
       "      <th>Miesiac</th>\n",
       "      <th>Dzien</th>\n",
       "      <th>Godzina</th>\n",
       "      <th>Wysokosc podstawy nizszej</th>\n",
       "      <th>Wysokosc podstawy wyzszej [m]</th>\n",
       "      <th>Widzialnosc</th>\n",
       "      <th>Widzialnosc operatora [m]</th>\n",
       "      <th>...</th>\n",
       "      <th>Temperatura gruntu -100 [°C]</th>\n",
       "      <th>Temperatura minimalna za 12 godzin</th>\n",
       "      <th>Temperatura maksymalna za 12 godzin [°C]</th>\n",
       "      <th>Temperatura minimalna przy gruncie za 12 godzin [°C]</th>\n",
       "      <th>Rownowaznik wodny sniegu [mm/cm]</th>\n",
       "      <th>Wysokosc pokrywy snieznej [cm]</th>\n",
       "      <th>Wysokosc swiezo spadlego sniegu</th>\n",
       "      <th>Wysokosc sniegu na poletku [cm]</th>\n",
       "      <th>Wysokosc probki [cm]</th>\n",
       "      <th>Ciezar probki [g]</th>\n",
       "    </tr>\n",
       "  </thead>\n",
       "  <tbody>\n",
       "    <tr>\n",
       "      <th>0</th>\n",
       "      <td>349190600</td>\n",
       "      <td>BIELSKO-BIA�A</td>\n",
       "      <td>2019</td>\n",
       "      <td>1</td>\n",
       "      <td>1</td>\n",
       "      <td>0</td>\n",
       "      <td>600</td>\n",
       "      <td>0</td>\n",
       "      <td>6</td>\n",
       "      <td>8000</td>\n",
       "      <td>...</td>\n",
       "      <td>0.0</td>\n",
       "      <td>0.0</td>\n",
       "      <td>0.0</td>\n",
       "      <td>0.0</td>\n",
       "      <td>0.0</td>\n",
       "      <td>0</td>\n",
       "      <td>0</td>\n",
       "      <td>0</td>\n",
       "      <td>0</td>\n",
       "      <td>0</td>\n",
       "    </tr>\n",
       "    <tr>\n",
       "      <th>1</th>\n",
       "      <td>349190600</td>\n",
       "      <td>BIELSKO-BIA�A</td>\n",
       "      <td>2019</td>\n",
       "      <td>1</td>\n",
       "      <td>1</td>\n",
       "      <td>1</td>\n",
       "      <td>600</td>\n",
       "      <td>0</td>\n",
       "      <td>7</td>\n",
       "      <td>15000</td>\n",
       "      <td>...</td>\n",
       "      <td>0.0</td>\n",
       "      <td>0.0</td>\n",
       "      <td>0.0</td>\n",
       "      <td>0.0</td>\n",
       "      <td>0.0</td>\n",
       "      <td>0</td>\n",
       "      <td>0</td>\n",
       "      <td>0</td>\n",
       "      <td>0</td>\n",
       "      <td>0</td>\n",
       "    </tr>\n",
       "  </tbody>\n",
       "</table>\n",
       "<p>2 rows × 44 columns</p>\n",
       "</div>"
      ],
      "text/plain": [
       "   Kod stacji   Nazwa stacji   Rok  Miesiac  Dzien  Godzina  \\\n",
       "0   349190600  BIELSKO-BIA�A  2019        1      1        0   \n",
       "1   349190600  BIELSKO-BIA�A  2019        1      1        1   \n",
       "\n",
       "   Wysokosc podstawy nizszej  Wysokosc podstawy wyzszej [m]  Widzialnosc  \\\n",
       "0                         600                               0             6   \n",
       "1                         600                               0             7   \n",
       "\n",
       "   Widzialnosc operatora [m]  ...  Temperatura gruntu -100 [°C]  \\\n",
       "0                        8000  ...                           0.0   \n",
       "1                       15000  ...                           0.0   \n",
       "\n",
       "   Temperatura minimalna za 12 godzin  \\\n",
       "0                                 0.0   \n",
       "1                                 0.0   \n",
       "\n",
       "   Temperatura maksymalna za 12 godzin [°C]  \\\n",
       "0                                       0.0   \n",
       "1                                       0.0   \n",
       "\n",
       "   Temperatura minimalna przy gruncie za 12 godzin [°C]  \\\n",
       "0                                                0.0      \n",
       "1                                                0.0      \n",
       "\n",
       "   Rownowaznik wodny sniegu [mm/cm]  Wysokosc pokrywy snieznej [cm]  \\\n",
       "0                                0.0                                 0   \n",
       "1                                0.0                                 0   \n",
       "\n",
       "   Wysokosc swiezo spadlego sniegu  Wysokosc sniegu na poletku [cm]  \\\n",
       "0                                   0                                  0   \n",
       "1                                   0                                  0   \n",
       "\n",
       "   Wysokosc probki [cm]  Ciezar probki [g]  \n",
       "0                      0                  0  \n",
       "1                      0                  0  \n",
       "\n",
       "[2 rows x 44 columns]"
      ]
     },
     "execution_count": 220,
     "metadata": {},
     "output_type": "execute_result"
    }
   ],
   "source": [
    "df.head(2)"
   ]
  },
  {
   "cell_type": "code",
   "execution_count": 221,
   "metadata": {},
   "outputs": [
    {
     "name": "stderr",
     "output_type": "stream",
     "text": [
      "/usr/lib/python3/dist-packages/ipykernel_launcher.py:1: FutureWarning: Sorting because non-concatenation axis is not aligned. A future version\n",
      "of pandas will change to not sort by default.\n",
      "\n",
      "To accept the future behavior, pass 'sort=False'.\n",
      "\n",
      "To retain the current behavior and silence the warning, pass 'sort=True'.\n",
      "\n",
      "  \"\"\"Entry point for launching an IPython kernel.\n"
     ]
    }
   ],
   "source": [
    "merged = pd.concat([older_data, df], axis=0)"
   ]
  },
  {
   "cell_type": "code",
   "execution_count": 222,
   "metadata": {},
   "outputs": [],
   "source": [
    "merged['date_time'] =   merged['Rok'].astype(str) + '-' + \\\n",
    "                    merged['Miesiac'].astype(str).str.zfill(2) + '-' + \\\n",
    "                    merged['Dzien'].astype(str).str.zfill(2) + ' ' + \\\n",
    "                    merged['Godzina'].astype(str).str.zfill(2) + ':00:00'"
   ]
  },
  {
   "cell_type": "code",
   "execution_count": 224,
   "metadata": {},
   "outputs": [],
   "source": [
    "important_cols = ['Widzialnosc', 'Zachmurzenie ogolne [oktanty]', 'Predkosc wiatru', 'Temperatura powietrza [°C]',\n",
    "                  'Wilgotnosc wzgledna [%]', 'Temperatura punktu rosy [°C]', 'Cisnienie na pozimie stacji [hPa]',\n",
    "                  'Charakterystyka tendencji [kod]' , 'Opad za 6 godzin [mm]', 'Rodzaj opadu za 6 godzin [kod]',\n",
    "                  'Stan gruntu [kod]', 'Uslonecznienie', 'Temperatura minimalna za 12 godzin',\n",
    "                  'Rownowaznik wodny sniegu [mm/cm]', 'Wysokosc pokrywy snieznej [cm]', \n",
    "                  'Wysokosc swiezo spadlego sniegu', 'Ciezar probki [g]']"
   ]
  },
  {
   "cell_type": "code",
   "execution_count": 225,
   "metadata": {},
   "outputs": [],
   "source": [
    "def process_city(tmp_df, city):\n",
    "    tmp_df = tmp_df[tmp_df['Nazwa stacji'] == 'TORU�']\n",
    "    tmp_df = tmp_df[['date_time'] + important_cols]\\\n",
    "        .set_index('date_time')\n",
    "    \n",
    "    columns_with_city = [x+'_'+city for x in tmp_df.columns]\n",
    "    tmp_df.columns = columns_with_city\n",
    "    return tmp_df"
   ]
  },
  {
   "cell_type": "code",
   "execution_count": 226,
   "metadata": {},
   "outputs": [],
   "source": [
    "pivoted_container = []\n",
    "for city in cities:\n",
    "    pivoted_container.append(process_city(merged, city))"
   ]
  },
  {
   "cell_type": "code",
   "execution_count": 228,
   "metadata": {},
   "outputs": [],
   "source": [
    "results = pd.concat(pivoted_container, axis = 1)"
   ]
  },
  {
   "cell_type": "code",
   "execution_count": 229,
   "metadata": {},
   "outputs": [],
   "source": [
    "results.to_csv('hackathon_pogoda.csv')"
   ]
  },
  {
   "cell_type": "code",
   "execution_count": null,
   "metadata": {},
   "outputs": [],
   "source": []
  }
 ],
 "metadata": {
  "kernelspec": {
   "display_name": "Python 3",
   "language": "python",
   "name": "python3"
  },
  "language_info": {
   "codemirror_mode": {
    "name": "ipython",
    "version": 3
   },
   "file_extension": ".py",
   "mimetype": "text/x-python",
   "name": "python",
   "nbconvert_exporter": "python",
   "pygments_lexer": "ipython3",
   "version": "3.6.7"
  }
 },
 "nbformat": 4,
 "nbformat_minor": 2
}
