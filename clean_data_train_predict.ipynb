{
 "cells": [
  {
   "cell_type": "code",
   "execution_count": 1,
   "metadata": {},
   "outputs": [],
   "source": [
    "import pandas as pd"
   ]
  },
  {
   "cell_type": "code",
   "execution_count": 2,
   "metadata": {},
   "outputs": [],
   "source": [
    "df = pd.read_csv('hackathon_data.csv').astype(float, errors='ignore')"
   ]
  },
  {
   "cell_type": "code",
   "execution_count": 3,
   "metadata": {},
   "outputs": [],
   "source": [
    "df.columns = ['date_time', 'power_demand']"
   ]
  },
  {
   "cell_type": "code",
   "execution_count": 4,
   "metadata": {},
   "outputs": [],
   "source": [
    "df['year'] = pd.to_datetime(df['date_time']).dt.year\n",
    "df['month'] = pd.to_datetime(df['date_time']).dt.month\n",
    "df['day'] = pd.to_datetime(df['date_time']).dt.day\n",
    "df['hour'] = pd.to_datetime(df['date_time']).dt.hour\n",
    "\n",
    "df['date'] = pd.to_datetime(df['date_time']).dt.date"
   ]
  },
  {
   "cell_type": "code",
   "execution_count": 5,
   "metadata": {},
   "outputs": [],
   "source": [
    "df[['date', 'power_demand']]\\\n",
    "    .groupby('date')\\\n",
    "    .sum()\\\n",
    "    .plot(figsize=(20,8));"
   ]
  },
  {
   "cell_type": "markdown",
   "metadata": {},
   "source": [
    "# Data cleaning"
   ]
  },
  {
   "cell_type": "markdown",
   "metadata": {},
   "source": [
    "## NaN / small / huge  values"
   ]
  },
  {
   "cell_type": "code",
   "execution_count": 6,
   "metadata": {},
   "outputs": [],
   "source": [
    "# There are some na values or zeros in datasets, lets find and fill them"
   ]
  },
  {
   "cell_type": "code",
   "execution_count": 7,
   "metadata": {},
   "outputs": [
    {
     "data": {
      "text/plain": [
       "0.0"
      ]
     },
     "execution_count": 7,
     "metadata": {},
     "output_type": "execute_result"
    }
   ],
   "source": [
    "len(df[df['power_demand'] == 0])/len(df)*100"
   ]
  },
  {
   "cell_type": "code",
   "execution_count": 8,
   "metadata": {},
   "outputs": [
    {
     "data": {
      "text/plain": [
       "0.6109979633401221"
      ]
     },
     "execution_count": 8,
     "metadata": {},
     "output_type": "execute_result"
    }
   ],
   "source": [
    "len(df[df['power_demand'].isna()])/len(df)*100"
   ]
  },
  {
   "cell_type": "code",
   "execution_count": 9,
   "metadata": {},
   "outputs": [
    {
     "data": {
      "text/plain": [
       "3.4726776899444234"
      ]
     },
     "execution_count": 9,
     "metadata": {},
     "output_type": "execute_result"
    }
   ],
   "source": [
    "# We should delete those values and replace them with averages, since we cannot be sure\n",
    "# Whether it is because of system error or correction\n",
    "len(df[df['power_demand'] < 20])/len(df)*100"
   ]
  },
  {
   "cell_type": "code",
   "execution_count": 10,
   "metadata": {},
   "outputs": [
    {
     "data": {
      "text/plain": [
       "4.5634989126307435"
      ]
     },
     "execution_count": 10,
     "metadata": {},
     "output_type": "execute_result"
    }
   ],
   "source": [
    "# that's first thing to notice, and also I can't find any seasonality or possible\n",
    "# causes of such things - and model cannot learn how to predict unpredictable\n",
    "len(df[df['power_demand'] > 1200])/len(df)*100"
   ]
  },
  {
   "cell_type": "code",
   "execution_count": 11,
   "metadata": {},
   "outputs": [],
   "source": [
    "# Let's fill na values with average value for this month/day/hour across years"
   ]
  },
  {
   "cell_type": "code",
   "execution_count": 12,
   "metadata": {},
   "outputs": [],
   "source": [
    "# first of all we need dates when there is no data\n",
    "# nan, zezros, 5 and 15, and values more then 1200\n",
    "df['month_day_hour'] = df['date_time'].str[5:]\n",
    "month_day_hour_missing = df\\\n",
    "    [(df['power_demand'].isna())|(df['power_demand'] < 20)|(df['power_demand'] > 1200)]\\\n",
    "    ['month_day_hour'].unique()"
   ]
  },
  {
   "cell_type": "code",
   "execution_count": 13,
   "metadata": {},
   "outputs": [],
   "source": [
    "# and values which will be used to replace zeros\n",
    "missing_dates_avg = df[\n",
    "    (df['month_day_hour'].isin(month_day_hour_missing)) &\n",
    "    (~df['power_demand'].isna())\n",
    "  ]\\\n",
    "    [['month_day_hour', 'power_demand']]\\\n",
    "    .groupby('month_day_hour')\\\n",
    "    .mean()"
   ]
  },
  {
   "cell_type": "code",
   "execution_count": 14,
   "metadata": {},
   "outputs": [
    {
     "data": {
      "text/html": [
       "<div>\n",
       "<style scoped>\n",
       "    .dataframe tbody tr th:only-of-type {\n",
       "        vertical-align: middle;\n",
       "    }\n",
       "\n",
       "    .dataframe tbody tr th {\n",
       "        vertical-align: top;\n",
       "    }\n",
       "\n",
       "    .dataframe thead th {\n",
       "        text-align: right;\n",
       "    }\n",
       "</style>\n",
       "<table border=\"1\" class=\"dataframe\">\n",
       "  <thead>\n",
       "    <tr style=\"text-align: right;\">\n",
       "      <th></th>\n",
       "      <th>power_demand</th>\n",
       "    </tr>\n",
       "    <tr>\n",
       "      <th>month_day_hour</th>\n",
       "      <th></th>\n",
       "    </tr>\n",
       "  </thead>\n",
       "  <tbody>\n",
       "    <tr>\n",
       "      <th>09-07 02:00:00</th>\n",
       "      <td>-12065.073574</td>\n",
       "    </tr>\n",
       "    <tr>\n",
       "      <th>06-08 08:00:00</th>\n",
       "      <td>-10456.640633</td>\n",
       "    </tr>\n",
       "    <tr>\n",
       "      <th>07-11 03:00:00</th>\n",
       "      <td>12.333333</td>\n",
       "    </tr>\n",
       "    <tr>\n",
       "      <th>05-22 02:00:00</th>\n",
       "      <td>15.333333</td>\n",
       "    </tr>\n",
       "    <tr>\n",
       "      <th>06-13 02:00:00</th>\n",
       "      <td>15.333333</td>\n",
       "    </tr>\n",
       "  </tbody>\n",
       "</table>\n",
       "</div>"
      ],
      "text/plain": [
       "                power_demand\n",
       "month_day_hour              \n",
       "09-07 02:00:00 -12065.073574\n",
       "06-08 08:00:00 -10456.640633\n",
       "07-11 03:00:00     12.333333\n",
       "05-22 02:00:00     15.333333\n",
       "06-13 02:00:00     15.333333"
      ]
     },
     "execution_count": 14,
     "metadata": {},
     "output_type": "execute_result"
    }
   ],
   "source": [
    "# But, some of the values we would like to use to replace NaN's are also bad\n",
    "missing_dates_avg\\\n",
    "    .sort_values('power_demand')\\\n",
    "    .head(5)"
   ]
  },
  {
   "cell_type": "code",
   "execution_count": 15,
   "metadata": {},
   "outputs": [],
   "source": [
    "missing_dates_avg = missing_dates_avg\\\n",
    "    [missing_dates_avg['power_demand'] > 100]"
   ]
  },
  {
   "cell_type": "code",
   "execution_count": 16,
   "metadata": {},
   "outputs": [
    {
     "data": {
      "text/html": [
       "<div>\n",
       "<style scoped>\n",
       "    .dataframe tbody tr th:only-of-type {\n",
       "        vertical-align: middle;\n",
       "    }\n",
       "\n",
       "    .dataframe tbody tr th {\n",
       "        vertical-align: top;\n",
       "    }\n",
       "\n",
       "    .dataframe thead th {\n",
       "        text-align: right;\n",
       "    }\n",
       "</style>\n",
       "<table border=\"1\" class=\"dataframe\">\n",
       "  <thead>\n",
       "    <tr style=\"text-align: right;\">\n",
       "      <th></th>\n",
       "      <th>power_demand</th>\n",
       "    </tr>\n",
       "    <tr>\n",
       "      <th>month_day_hour</th>\n",
       "      <th></th>\n",
       "    </tr>\n",
       "  </thead>\n",
       "  <tbody>\n",
       "    <tr>\n",
       "      <th>03-31 01:00:00</th>\n",
       "      <td>100.250000</td>\n",
       "    </tr>\n",
       "    <tr>\n",
       "      <th>03-23 02:00:00</th>\n",
       "      <td>100.750000</td>\n",
       "    </tr>\n",
       "    <tr>\n",
       "      <th>08-14 03:00:00</th>\n",
       "      <td>101.000000</td>\n",
       "    </tr>\n",
       "    <tr>\n",
       "      <th>05-22 03:00:00</th>\n",
       "      <td>101.666667</td>\n",
       "    </tr>\n",
       "    <tr>\n",
       "      <th>08-02 02:00:00</th>\n",
       "      <td>102.000000</td>\n",
       "    </tr>\n",
       "  </tbody>\n",
       "</table>\n",
       "</div>"
      ],
      "text/plain": [
       "                power_demand\n",
       "month_day_hour              \n",
       "03-31 01:00:00    100.250000\n",
       "03-23 02:00:00    100.750000\n",
       "08-14 03:00:00    101.000000\n",
       "05-22 03:00:00    101.666667\n",
       "08-02 02:00:00    102.000000"
      ]
     },
     "execution_count": 16,
     "metadata": {},
     "output_type": "execute_result"
    }
   ],
   "source": [
    "# Now it looks much more legimate\n",
    "missing_dates_avg\\\n",
    "    .sort_values('power_demand')\\\n",
    "    .head(5)"
   ]
  },
  {
   "cell_type": "code",
   "execution_count": 17,
   "metadata": {},
   "outputs": [
    {
     "data": {
      "text/plain": [
       "2019"
      ]
     },
     "execution_count": 17,
     "metadata": {},
     "output_type": "execute_result"
    }
   ],
   "source": [
    "len(missing_dates_avg)"
   ]
  },
  {
   "cell_type": "code",
   "execution_count": 18,
   "metadata": {},
   "outputs": [
    {
     "data": {
      "text/plain": [
       "2186"
      ]
     },
     "execution_count": 18,
     "metadata": {},
     "output_type": "execute_result"
    }
   ],
   "source": [
    "len(month_day_hour_missing)"
   ]
  },
  {
   "cell_type": "code",
   "execution_count": 19,
   "metadata": {},
   "outputs": [],
   "source": [
    "# We have a good aproximation for most of the values, for the rest two ones we will deal later"
   ]
  },
  {
   "cell_type": "code",
   "execution_count": 20,
   "metadata": {},
   "outputs": [],
   "source": [
    "averages_dict = missing_dates_avg.to_dict('index')"
   ]
  },
  {
   "cell_type": "code",
   "execution_count": 21,
   "metadata": {},
   "outputs": [],
   "source": [
    "from math import isnan"
   ]
  },
  {
   "cell_type": "code",
   "execution_count": 22,
   "metadata": {},
   "outputs": [],
   "source": [
    "cleaned_power_demand = []\n",
    "for row in df[['month_day_hour', 'power_demand']].to_dict('records'):\n",
    "    if row['power_demand'] < 0 or row['power_demand'] > 1200:\n",
    "        cleaned_power_demand.append(float(df['power_demand'].median()))\n",
    "    elif not isnan(row['power_demand']):\n",
    "        cleaned_power_demand.append(float(row['power_demand']))\n",
    "    else:\n",
    "        # remember, there are nan values for which we dont have calculated averages\n",
    "        try:\n",
    "            cleaned_power_demand.append(float(averages_dict[row['month_day_hour']]['power_demand']))\n",
    "        except:\n",
    "            # For this values we will just use median from all dataset\n",
    "            cleaned_power_demand.append(float(df['power_demand'].median()))"
   ]
  },
  {
   "cell_type": "code",
   "execution_count": 23,
   "metadata": {},
   "outputs": [
    {
     "data": {
      "image/png": "[encoded data removed]",
      "text/plain": [
       "<Figure size 1440x576 with 1 Axes>"
      ]
     },
     "metadata": {},
     "output_type": "display_data"
    }
   ],
   "source": [
    "# And not it looks much better without big downfalls\n",
    "pd.concat([df, pd.Series(cleaned_power_demand, name = 'cleaned_power_demand')], axis = 1)\\\n",
    "    [['date', 'cleaned_power_demand']]\\\n",
    "    .groupby('date')\\\n",
    "    .sum()\\\n",
    "    .plot(figsize=(20,8));"
   ]
  },
  {
   "cell_type": "code",
   "execution_count": 24,
   "metadata": {},
   "outputs": [
    {
     "data": {
      "text/html": [
       "<div>\n",
       "<style scoped>\n",
       "    .dataframe tbody tr th:only-of-type {\n",
       "        vertical-align: middle;\n",
       "    }\n",
       "\n",
       "    .dataframe tbody tr th {\n",
       "        vertical-align: top;\n",
       "    }\n",
       "\n",
       "    .dataframe thead th {\n",
       "        text-align: right;\n",
       "    }\n",
       "</style>\n",
       "<table border=\"1\" class=\"dataframe\">\n",
       "  <thead>\n",
       "    <tr style=\"text-align: right;\">\n",
       "      <th></th>\n",
       "      <th>cleaned_power_demand</th>\n",
       "    </tr>\n",
       "    <tr>\n",
       "      <th>date</th>\n",
       "      <th></th>\n",
       "    </tr>\n",
       "  </thead>\n",
       "  <tbody>\n",
       "    <tr>\n",
       "      <th>2018-01-26</th>\n",
       "      <td>20690.0</td>\n",
       "    </tr>\n",
       "    <tr>\n",
       "      <th>2018-01-04</th>\n",
       "      <td>20336.0</td>\n",
       "    </tr>\n",
       "    <tr>\n",
       "      <th>2018-01-30</th>\n",
       "      <td>20267.0</td>\n",
       "    </tr>\n",
       "    <tr>\n",
       "      <th>2018-01-31</th>\n",
       "      <td>20049.0</td>\n",
       "    </tr>\n",
       "    <tr>\n",
       "      <th>2018-02-02</th>\n",
       "      <td>19281.0</td>\n",
       "    </tr>\n",
       "  </tbody>\n",
       "</table>\n",
       "</div>"
      ],
      "text/plain": [
       "            cleaned_power_demand\n",
       "date                            \n",
       "2018-01-26               20690.0\n",
       "2018-01-04               20336.0\n",
       "2018-01-30               20267.0\n",
       "2018-01-31               20049.0\n",
       "2018-02-02               19281.0"
      ]
     },
     "execution_count": 24,
     "metadata": {},
     "output_type": "execute_result"
    }
   ],
   "source": [
    "pd.concat([df, pd.Series(cleaned_power_demand, name = 'cleaned_power_demand')], axis = 1)\\\n",
    "    [['date', 'cleaned_power_demand']]\\\n",
    "    .groupby('date')\\\n",
    "    .sum()\\\n",
    "    .sort_values('cleaned_power_demand', ascending=False)\\\n",
    "    .head(5)"
   ]
  },
  {
   "cell_type": "code",
   "execution_count": 25,
   "metadata": {},
   "outputs": [],
   "source": [
    "df = pd.concat([df, pd.Series(cleaned_power_demand, name = 'cleaned_power_demand')], axis = 1)"
   ]
  },
  {
   "cell_type": "code",
   "execution_count": 26,
   "metadata": {},
   "outputs": [],
   "source": [
    "df = df.drop(['month_day_hour'], axis = 1)"
   ]
  },
  {
   "cell_type": "markdown",
   "metadata": {},
   "source": [
    "## Weather (taken from notebook 'pogodynka')"
   ]
  },
  {
   "cell_type": "code",
   "execution_count": 27,
   "metadata": {},
   "outputs": [],
   "source": [
    "weather = pd.read_csv('hackathon_pogoda.csv').set_index('date_time')"
   ]
  },
  {
   "cell_type": "code",
   "execution_count": 28,
   "metadata": {},
   "outputs": [
    {
     "data": {
      "text/html": [
       "<div>\n",
       "<style scoped>\n",
       "    .dataframe tbody tr th:only-of-type {\n",
       "        vertical-align: middle;\n",
       "    }\n",
       "\n",
       "    .dataframe tbody tr th {\n",
       "        vertical-align: top;\n",
       "    }\n",
       "\n",
       "    .dataframe thead th {\n",
       "        text-align: right;\n",
       "    }\n",
       "</style>\n",
       "<table border=\"1\" class=\"dataframe\">\n",
       "  <thead>\n",
       "    <tr style=\"text-align: right;\">\n",
       "      <th></th>\n",
       "      <th>Widzialnosc_TORU�</th>\n",
       "      <th>Zachmurzenie ogolne [oktanty]_TORU�</th>\n",
       "      <th>Predkosc wiatru_TORU�</th>\n",
       "      <th>Temperatura powietrza [°C]_TORU�</th>\n",
       "      <th>Wilgotnosc wzgledna [%]_TORU�</th>\n",
       "      <th>Temperatura punktu rosy [°C]_TORU�</th>\n",
       "      <th>Cisnienie na pozimie stacji [hPa]_TORU�</th>\n",
       "      <th>Charakterystyka tendencji [kod]_TORU�</th>\n",
       "      <th>Opad za 6 godzin [mm]_TORU�</th>\n",
       "      <th>Rodzaj opadu za 6 godzin [kod]_TORU�</th>\n",
       "      <th>...</th>\n",
       "      <th>Charakterystyka tendencji [kod]_GDA�SK-�WIBNO</th>\n",
       "      <th>Opad za 6 godzin [mm]_GDA�SK-�WIBNO</th>\n",
       "      <th>Rodzaj opadu za 6 godzin [kod]_GDA�SK-�WIBNO</th>\n",
       "      <th>Stan gruntu [kod]_GDA�SK-�WIBNO</th>\n",
       "      <th>Uslonecznienie_GDA�SK-�WIBNO</th>\n",
       "      <th>Temperatura minimalna za 12 godzin_GDA�SK-�WIBNO</th>\n",
       "      <th>Rownowaznik wodny sniegu [mm/cm]_GDA�SK-�WIBNO</th>\n",
       "      <th>Wysokosc pokrywy snieznej [cm]_GDA�SK-�WIBNO</th>\n",
       "      <th>Wysokosc swiezo spadlego sniegu_GDA�SK-�WIBNO</th>\n",
       "      <th>Ciezar probki [g]_GDA�SK-�WIBNO</th>\n",
       "    </tr>\n",
       "    <tr>\n",
       "      <th>date_time</th>\n",
       "      <th></th>\n",
       "      <th></th>\n",
       "      <th></th>\n",
       "      <th></th>\n",
       "      <th></th>\n",
       "      <th></th>\n",
       "      <th></th>\n",
       "      <th></th>\n",
       "      <th></th>\n",
       "      <th></th>\n",
       "      <th></th>\n",
       "      <th></th>\n",
       "      <th></th>\n",
       "      <th></th>\n",
       "      <th></th>\n",
       "      <th></th>\n",
       "      <th></th>\n",
       "      <th></th>\n",
       "      <th></th>\n",
       "      <th></th>\n",
       "      <th></th>\n",
       "    </tr>\n",
       "  </thead>\n",
       "  <tbody>\n",
       "    <tr>\n",
       "      <th>2016-01-01 00:00:00</th>\n",
       "      <td>6</td>\n",
       "      <td>0</td>\n",
       "      <td>2</td>\n",
       "      <td>-6.6</td>\n",
       "      <td>78</td>\n",
       "      <td>-9.8</td>\n",
       "      <td>1019.5</td>\n",
       "      <td>5</td>\n",
       "      <td>0.0</td>\n",
       "      <td>0</td>\n",
       "      <td>...</td>\n",
       "      <td>5</td>\n",
       "      <td>0.0</td>\n",
       "      <td>0</td>\n",
       "      <td>4</td>\n",
       "      <td>0.0</td>\n",
       "      <td>0.0</td>\n",
       "      <td>0.0</td>\n",
       "      <td>0</td>\n",
       "      <td>0</td>\n",
       "      <td>0</td>\n",
       "    </tr>\n",
       "    <tr>\n",
       "      <th>2016-01-01 01:00:00</th>\n",
       "      <td>6</td>\n",
       "      <td>0</td>\n",
       "      <td>2</td>\n",
       "      <td>-6.8</td>\n",
       "      <td>77</td>\n",
       "      <td>-10.2</td>\n",
       "      <td>1019.0</td>\n",
       "      <td>8</td>\n",
       "      <td>0.0</td>\n",
       "      <td>0</td>\n",
       "      <td>...</td>\n",
       "      <td>8</td>\n",
       "      <td>0.0</td>\n",
       "      <td>0</td>\n",
       "      <td>0</td>\n",
       "      <td>0.0</td>\n",
       "      <td>0.0</td>\n",
       "      <td>0.0</td>\n",
       "      <td>0</td>\n",
       "      <td>0</td>\n",
       "      <td>0</td>\n",
       "    </tr>\n",
       "  </tbody>\n",
       "</table>\n",
       "<p>2 rows × 68 columns</p>\n",
       "</div>"
      ],
      "text/plain": [
       "                     Widzialnosc_TORU�  Zachmurzenie ogolne [oktanty]_TORU�  \\\n",
       "date_time                                                                      \n",
       "2016-01-01 00:00:00                   6                                    0   \n",
       "2016-01-01 01:00:00                   6                                    0   \n",
       "\n",
       "                     Predkosc wiatru_TORU�  Temperatura powietrza [°C]_TORU�  \\\n",
       "date_time                                                                       \n",
       "2016-01-01 00:00:00                       2                              -6.6   \n",
       "2016-01-01 01:00:00                       2                              -6.8   \n",
       "\n",
       "                     Wilgotnosc wzgledna [%]_TORU�  \\\n",
       "date_time                                             \n",
       "2016-01-01 00:00:00                              78   \n",
       "2016-01-01 01:00:00                              77   \n",
       "\n",
       "                     Temperatura punktu rosy [°C]_TORU�  \\\n",
       "date_time                                                 \n",
       "2016-01-01 00:00:00                                -9.8   \n",
       "2016-01-01 01:00:00                               -10.2   \n",
       "\n",
       "                     Cisnienie na pozimie stacji [hPa]_TORU�  \\\n",
       "date_time                                                       \n",
       "2016-01-01 00:00:00                                    1019.5   \n",
       "2016-01-01 01:00:00                                    1019.0   \n",
       "\n",
       "                     Charakterystyka tendencji [kod]_TORU�  \\\n",
       "date_time                                                    \n",
       "2016-01-01 00:00:00                                      5   \n",
       "2016-01-01 01:00:00                                      8   \n",
       "\n",
       "                     Opad za 6 godzin [mm]_TORU�  \\\n",
       "date_time                                          \n",
       "2016-01-01 00:00:00                          0.0   \n",
       "2016-01-01 01:00:00                          0.0   \n",
       "\n",
       "                     Rodzaj opadu za 6 godzin [kod]_TORU�  ...  \\\n",
       "date_time                                                  ...   \n",
       "2016-01-01 00:00:00                                     0  ...   \n",
       "2016-01-01 01:00:00                                     0  ...   \n",
       "\n",
       "                     Charakterystyka tendencji [kod]_GDA�SK-�WIBNO  \\\n",
       "date_time                                                            \n",
       "2016-01-01 00:00:00                                              5   \n",
       "2016-01-01 01:00:00                                              8   \n",
       "\n",
       "                     Opad za 6 godzin [mm]_GDA�SK-�WIBNO  \\\n",
       "date_time                                                  \n",
       "2016-01-01 00:00:00                                  0.0   \n",
       "2016-01-01 01:00:00                                  0.0   \n",
       "\n",
       "                     Rodzaj opadu za 6 godzin [kod]_GDA�SK-�WIBNO  \\\n",
       "date_time                                                           \n",
       "2016-01-01 00:00:00                                             0   \n",
       "2016-01-01 01:00:00                                             0   \n",
       "\n",
       "                     Stan gruntu [kod]_GDA�SK-�WIBNO  \\\n",
       "date_time                                              \n",
       "2016-01-01 00:00:00                                4   \n",
       "2016-01-01 01:00:00                                0   \n",
       "\n",
       "                     Uslonecznienie_GDA�SK-�WIBNO  \\\n",
       "date_time                                           \n",
       "2016-01-01 00:00:00                           0.0   \n",
       "2016-01-01 01:00:00                           0.0   \n",
       "\n",
       "                     Temperatura minimalna za 12 godzin_GDA�SK-�WIBNO  \\\n",
       "date_time                                                               \n",
       "2016-01-01 00:00:00                                               0.0   \n",
       "2016-01-01 01:00:00                                               0.0   \n",
       "\n",
       "                     Rownowaznik wodny sniegu [mm/cm]_GDA�SK-�WIBNO  \\\n",
       "date_time                                                              \n",
       "2016-01-01 00:00:00                                              0.0   \n",
       "2016-01-01 01:00:00                                              0.0   \n",
       "\n",
       "                     Wysokosc pokrywy snieznej [cm]_GDA�SK-�WIBNO  \\\n",
       "date_time                                                             \n",
       "2016-01-01 00:00:00                                               0   \n",
       "2016-01-01 01:00:00                                               0   \n",
       "\n",
       "                     Wysokosc swiezo spadlego sniegu_GDA�SK-�WIBNO  \\\n",
       "date_time                                                               \n",
       "2016-01-01 00:00:00                                                 0   \n",
       "2016-01-01 01:00:00                                                 0   \n",
       "\n",
       "                     Ciezar probki [g]_GDA�SK-�WIBNO  \n",
       "date_time                                             \n",
       "2016-01-01 00:00:00                                0  \n",
       "2016-01-01 01:00:00                                0  \n",
       "\n",
       "[2 rows x 68 columns]"
      ]
     },
     "execution_count": 28,
     "metadata": {},
     "output_type": "execute_result"
    }
   ],
   "source": [
    "weather.head(2)"
   ]
  },
  {
   "cell_type": "code",
   "execution_count": 29,
   "metadata": {},
   "outputs": [],
   "source": [
    "# I will need it to pca another dataset\n",
    "weather_cols = weather.columns"
   ]
  },
  {
   "cell_type": "markdown",
   "metadata": {},
   "source": [
    "#### There is lots of weather data, let's try to PCA it"
   ]
  },
  {
   "cell_type": "code",
   "execution_count": 30,
   "metadata": {},
   "outputs": [],
   "source": [
    "from sklearn.decomposition import PCA"
   ]
  },
  {
   "cell_type": "code",
   "execution_count": 31,
   "metadata": {},
   "outputs": [],
   "source": [
    "clf = PCA(n_components=int(68/4), svd_solver='full')"
   ]
  },
  {
   "cell_type": "code",
   "execution_count": 32,
   "metadata": {},
   "outputs": [
    {
     "data": {
      "text/plain": [
       "PCA(copy=True, iterated_power='auto', n_components=17, random_state=None,\n",
       "    svd_solver='full', tol=0.0, whiten=False)"
      ]
     },
     "execution_count": 32,
     "metadata": {},
     "output_type": "execute_result"
    }
   ],
   "source": [
    "clf.fit(weather.values)"
   ]
  },
  {
   "cell_type": "code",
   "execution_count": 33,
   "metadata": {},
   "outputs": [],
   "source": [
    "new_weather = clf.transform(weather.values)"
   ]
  },
  {
   "cell_type": "code",
   "execution_count": 34,
   "metadata": {},
   "outputs": [],
   "source": [
    "new_weather_df = pd.DataFrame(new_weather, \n",
    "                              index = weather.index,\n",
    "                              columns = ['weather_'+str(i) for i in range(new_weather.shape[1])])"
   ]
  },
  {
   "cell_type": "code",
   "execution_count": 35,
   "metadata": {},
   "outputs": [
    {
     "name": "stderr",
     "output_type": "stream",
     "text": [
      "/usr/lib/python3/dist-packages/ipykernel_launcher.py:4: FutureWarning: Sorting because non-concatenation axis is not aligned. A future version\n",
      "of pandas will change to not sort by default.\n",
      "\n",
      "To accept the future behavior, pass 'sort=False'.\n",
      "\n",
      "To retain the current behavior and silence the warning, pass 'sort=True'.\n",
      "\n",
      "  after removing the cwd from sys.path.\n"
     ]
    }
   ],
   "source": [
    "df = pd.concat([\n",
    "    df.set_index('date_time'),\n",
    "    new_weather_df\n",
    "], axis = 1).dropna()"
   ]
  },
  {
   "cell_type": "code",
   "execution_count": 36,
   "metadata": {},
   "outputs": [
    {
     "data": {
      "text/html": [
       "<div>\n",
       "<style scoped>\n",
       "    .dataframe tbody tr th:only-of-type {\n",
       "        vertical-align: middle;\n",
       "    }\n",
       "\n",
       "    .dataframe tbody tr th {\n",
       "        vertical-align: top;\n",
       "    }\n",
       "\n",
       "    .dataframe thead th {\n",
       "        text-align: right;\n",
       "    }\n",
       "</style>\n",
       "<table border=\"1\" class=\"dataframe\">\n",
       "  <thead>\n",
       "    <tr style=\"text-align: right;\">\n",
       "      <th></th>\n",
       "      <th>power_demand</th>\n",
       "      <th>year</th>\n",
       "      <th>month</th>\n",
       "      <th>day</th>\n",
       "      <th>hour</th>\n",
       "      <th>date</th>\n",
       "      <th>cleaned_power_demand</th>\n",
       "      <th>weather_0</th>\n",
       "      <th>weather_1</th>\n",
       "      <th>weather_2</th>\n",
       "      <th>...</th>\n",
       "      <th>weather_7</th>\n",
       "      <th>weather_8</th>\n",
       "      <th>weather_9</th>\n",
       "      <th>weather_10</th>\n",
       "      <th>weather_11</th>\n",
       "      <th>weather_12</th>\n",
       "      <th>weather_13</th>\n",
       "      <th>weather_14</th>\n",
       "      <th>weather_15</th>\n",
       "      <th>weather_16</th>\n",
       "    </tr>\n",
       "  </thead>\n",
       "  <tbody>\n",
       "    <tr>\n",
       "      <th>2016-01-01 00:00:00</th>\n",
       "      <td>358.0</td>\n",
       "      <td>2016.0</td>\n",
       "      <td>1.0</td>\n",
       "      <td>1.0</td>\n",
       "      <td>0.0</td>\n",
       "      <td>2016-01-01</td>\n",
       "      <td>358.0</td>\n",
       "      <td>-3.931995</td>\n",
       "      <td>-14.234147</td>\n",
       "      <td>47.836144</td>\n",
       "      <td>...</td>\n",
       "      <td>5.845447</td>\n",
       "      <td>-1.872184</td>\n",
       "      <td>-1.975685</td>\n",
       "      <td>0.286878</td>\n",
       "      <td>-1.436686</td>\n",
       "      <td>0.467405</td>\n",
       "      <td>-0.795879</td>\n",
       "      <td>0.538192</td>\n",
       "      <td>-0.053835</td>\n",
       "      <td>-0.031723</td>\n",
       "    </tr>\n",
       "    <tr>\n",
       "      <th>2016-01-01 01:00:00</th>\n",
       "      <td>387.0</td>\n",
       "      <td>2016.0</td>\n",
       "      <td>1.0</td>\n",
       "      <td>1.0</td>\n",
       "      <td>1.0</td>\n",
       "      <td>2016-01-01</td>\n",
       "      <td>387.0</td>\n",
       "      <td>-4.057905</td>\n",
       "      <td>-12.334390</td>\n",
       "      <td>48.165124</td>\n",
       "      <td>...</td>\n",
       "      <td>-1.231929</td>\n",
       "      <td>0.468958</td>\n",
       "      <td>0.725730</td>\n",
       "      <td>-0.068187</td>\n",
       "      <td>0.257618</td>\n",
       "      <td>0.014948</td>\n",
       "      <td>-0.943717</td>\n",
       "      <td>0.523774</td>\n",
       "      <td>0.016006</td>\n",
       "      <td>0.003837</td>\n",
       "    </tr>\n",
       "    <tr>\n",
       "      <th>2016-01-01 02:00:00</th>\n",
       "      <td>176.0</td>\n",
       "      <td>2016.0</td>\n",
       "      <td>1.0</td>\n",
       "      <td>1.0</td>\n",
       "      <td>2.0</td>\n",
       "      <td>2016-01-01</td>\n",
       "      <td>176.0</td>\n",
       "      <td>-4.016716</td>\n",
       "      <td>-16.125766</td>\n",
       "      <td>46.560837</td>\n",
       "      <td>...</td>\n",
       "      <td>-1.240888</td>\n",
       "      <td>1.869544</td>\n",
       "      <td>-0.520984</td>\n",
       "      <td>0.881066</td>\n",
       "      <td>0.241452</td>\n",
       "      <td>-0.022529</td>\n",
       "      <td>-0.835870</td>\n",
       "      <td>0.549883</td>\n",
       "      <td>0.013844</td>\n",
       "      <td>0.004209</td>\n",
       "    </tr>\n",
       "  </tbody>\n",
       "</table>\n",
       "<p>3 rows × 24 columns</p>\n",
       "</div>"
      ],
      "text/plain": [
       "                     power_demand    year  month  day  hour        date  \\\n",
       "2016-01-01 00:00:00         358.0  2016.0    1.0  1.0   0.0  2016-01-01   \n",
       "2016-01-01 01:00:00         387.0  2016.0    1.0  1.0   1.0  2016-01-01   \n",
       "2016-01-01 02:00:00         176.0  2016.0    1.0  1.0   2.0  2016-01-01   \n",
       "\n",
       "                     cleaned_power_demand  weather_0  weather_1  weather_2  \\\n",
       "2016-01-01 00:00:00                 358.0  -3.931995 -14.234147  47.836144   \n",
       "2016-01-01 01:00:00                 387.0  -4.057905 -12.334390  48.165124   \n",
       "2016-01-01 02:00:00                 176.0  -4.016716 -16.125766  46.560837   \n",
       "\n",
       "                     ...  weather_7  weather_8  weather_9  weather_10  \\\n",
       "2016-01-01 00:00:00  ...   5.845447  -1.872184  -1.975685    0.286878   \n",
       "2016-01-01 01:00:00  ...  -1.231929   0.468958   0.725730   -0.068187   \n",
       "2016-01-01 02:00:00  ...  -1.240888   1.869544  -0.520984    0.881066   \n",
       "\n",
       "                     weather_11  weather_12  weather_13  weather_14  \\\n",
       "2016-01-01 00:00:00   -1.436686    0.467405   -0.795879    0.538192   \n",
       "2016-01-01 01:00:00    0.257618    0.014948   -0.943717    0.523774   \n",
       "2016-01-01 02:00:00    0.241452   -0.022529   -0.835870    0.549883   \n",
       "\n",
       "                     weather_15  weather_16  \n",
       "2016-01-01 00:00:00   -0.053835   -0.031723  \n",
       "2016-01-01 01:00:00    0.016006    0.003837  \n",
       "2016-01-01 02:00:00    0.013844    0.004209  \n",
       "\n",
       "[3 rows x 24 columns]"
      ]
     },
     "execution_count": 36,
     "metadata": {},
     "output_type": "execute_result"
    }
   ],
   "source": [
    "df.head(3)"
   ]
  },
  {
   "cell_type": "markdown",
   "metadata": {},
   "source": [
    "## Dummy dates"
   ]
  },
  {
   "cell_type": "code",
   "execution_count": 37,
   "metadata": {},
   "outputs": [],
   "source": [
    "df = pd.concat([\n",
    "    df,\n",
    "    pd.get_dummies(df['year'], prefix='year'),\n",
    "    pd.get_dummies(df['month'], prefix='month'),\n",
    "    pd.get_dummies(df['day'], prefix='day'),\n",
    "    pd.get_dummies(df['hour'], prefix='hour')\n",
    "], axis = 1).drop(['year', 'month', 'day', 'hour'], axis = 1)"
   ]
  },
  {
   "cell_type": "markdown",
   "metadata": {},
   "source": [
    "## Holidays"
   ]
  },
  {
   "cell_type": "code",
   "execution_count": 38,
   "metadata": {},
   "outputs": [],
   "source": [
    "holidays_2014 = [\"2014-01-01\", \"2014-01-06\", \"2014-04-20\", \"2014-04-21\", \"2014-05-01\", \"2014-05-03\", \"2014-06-08\",\n",
    "                 \"2014-06-19\", \"2014-08-15\", \"2014-11-01\", \"2014-11-11\", \"2014-12-25\", \"2014-12-26\"]\n",
    "holidays_2015 = [\"2015-01-01\", \"2015-01-06\", \"2015-04-05\", \"2015-04-06\", \"2015-05-01\", \"2015-05-03\", \"2015-05-24\",\n",
    "                 \"2015-06-04\", \"2015-08-15\", \"2015-11-01\", \"2015-11-11\", \"2015-12-25\", \"2015-12-26\"]\n",
    "holidays_2016 = [\"2016-01-01\", \"2016-01-06\", \"2016-03-27\", \"2016-03-28\", \"2016-05-01\", \"2016-05-03\", \"2016-05-15\",\n",
    "                 \"2016-05-26\", \"2016-08-15\", \"2016-11-01\", \"2016-11-11\", \"2016-12-25\", \"2016-12-26\"]\n",
    "holidays_2017 = [\"2017-01-01\", \"2017-01-06\", \"2017-04-16\", \"2017-04-17\", \"2017-05-01\", \"2017-05-03\", \"2017-06-04\",\n",
    "                 \"2017-06-15\", \"2017-08-15\", \"2017-11-01\", \"2017-11-11\", \"2017-12-25\", \"2017-12-26\"]\n",
    "holidays_2018 = [\"2018-01-01\", \"2018-01-06\", \"2018-04-01\", \"2018-04-02\", \"2018-05-01\", \"2018-05-03\", \"2018-05-20\",\n",
    "                 \"2018-05-31\", \"2018-08-15\", \"2018-11-01\", \"2018-11-11\", \"2018-11-12\", \"2018-12-25\", \"2018-12-26\"]\n",
    "holidays_2019 = [\"2019-01-01\", \"2019-01-06\", \"2019-04-21\", \"2019-04-22\", \"2019-05-01\", \"2019-05-03\", \"2019-06-09\",\n",
    "                 \"2019-06-20\", \"2019-08-15\", \"2019-11-01\", \"2019-11-11\", \"2019-12-25\", \"2019-12-26\"]\n",
    "\n",
    "holiday_list = holidays_2014 + holidays_2015 + holidays_2016 + holidays_2017 + holidays_2018 + holidays_2019"
   ]
  },
  {
   "cell_type": "code",
   "execution_count": 39,
   "metadata": {},
   "outputs": [],
   "source": [
    "df['is_holiday'] = df.index.str[:10].isin(holiday_list)"
   ]
  },
  {
   "cell_type": "code",
   "execution_count": 40,
   "metadata": {},
   "outputs": [],
   "source": [
    "df = df.drop('date', axis = 1)"
   ]
  },
  {
   "cell_type": "markdown",
   "metadata": {},
   "source": [
    "## Day length (to be added)"
   ]
  },
  {
   "cell_type": "code",
   "execution_count": 41,
   "metadata": {},
   "outputs": [],
   "source": [
    "sunlight = pd.read_csv('sun_data_time.csv', sep=';').set_index('date_time')[['sun_noon_01',\n",
    "                                                                             'daylight_01',\n",
    "                                                                             'civil_twilight_01']]"
   ]
  },
  {
   "cell_type": "code",
   "execution_count": 42,
   "metadata": {
    "scrolled": true
   },
   "outputs": [
    {
     "data": {
      "text/html": [
       "<div>\n",
       "<style scoped>\n",
       "    .dataframe tbody tr th:only-of-type {\n",
       "        vertical-align: middle;\n",
       "    }\n",
       "\n",
       "    .dataframe tbody tr th {\n",
       "        vertical-align: top;\n",
       "    }\n",
       "\n",
       "    .dataframe thead th {\n",
       "        text-align: right;\n",
       "    }\n",
       "</style>\n",
       "<table border=\"1\" class=\"dataframe\">\n",
       "  <thead>\n",
       "    <tr style=\"text-align: right;\">\n",
       "      <th></th>\n",
       "      <th>sun_noon_01</th>\n",
       "      <th>daylight_01</th>\n",
       "      <th>civil_twilight_01</th>\n",
       "    </tr>\n",
       "    <tr>\n",
       "      <th>date_time</th>\n",
       "      <th></th>\n",
       "      <th></th>\n",
       "      <th></th>\n",
       "    </tr>\n",
       "  </thead>\n",
       "  <tbody>\n",
       "    <tr>\n",
       "      <th>2014-12-01 00:00:00</th>\n",
       "      <td>0</td>\n",
       "      <td>0</td>\n",
       "      <td>0</td>\n",
       "    </tr>\n",
       "    <tr>\n",
       "      <th>2014-12-01 01:00:00</th>\n",
       "      <td>0</td>\n",
       "      <td>0</td>\n",
       "      <td>0</td>\n",
       "    </tr>\n",
       "    <tr>\n",
       "      <th>2014-12-01 02:00:00</th>\n",
       "      <td>0</td>\n",
       "      <td>0</td>\n",
       "      <td>0</td>\n",
       "    </tr>\n",
       "  </tbody>\n",
       "</table>\n",
       "</div>"
      ],
      "text/plain": [
       "                     sun_noon_01  daylight_01  civil_twilight_01\n",
       "date_time                                                       \n",
       "2014-12-01 00:00:00            0            0                  0\n",
       "2014-12-01 01:00:00            0            0                  0\n",
       "2014-12-01 02:00:00            0            0                  0"
      ]
     },
     "execution_count": 42,
     "metadata": {},
     "output_type": "execute_result"
    }
   ],
   "source": [
    "sunlight.head(3)"
   ]
  },
  {
   "cell_type": "code",
   "execution_count": 43,
   "metadata": {},
   "outputs": [
    {
     "name": "stderr",
     "output_type": "stream",
     "text": [
      "/usr/lib/python3/dist-packages/ipykernel_launcher.py:1: FutureWarning: Sorting because non-concatenation axis is not aligned. A future version\n",
      "of pandas will change to not sort by default.\n",
      "\n",
      "To accept the future behavior, pass 'sort=False'.\n",
      "\n",
      "To retain the current behavior and silence the warning, pass 'sort=True'.\n",
      "\n",
      "  \"\"\"Entry point for launching an IPython kernel.\n"
     ]
    }
   ],
   "source": [
    "df = pd.concat([df, sunlight], axis = 1).dropna(0)"
   ]
  },
  {
   "cell_type": "markdown",
   "metadata": {},
   "source": [
    "## Time change features"
   ]
  },
  {
   "cell_type": "code",
   "execution_count": 44,
   "metadata": {},
   "outputs": [],
   "source": [
    "import get_calendar_pl"
   ]
  },
  {
   "cell_type": "code",
   "execution_count": 45,
   "metadata": {},
   "outputs": [],
   "source": [
    "list_letni = []\n",
    "list_zimowy = []\n",
    "for key, value in get_calendar_pl.time_change(2016, 2019).items():\n",
    "    if value.split(' ')[-1] == 'letni':\n",
    "        list_letni.append(str(key))\n",
    "    if value.split(' ')[-1] == 'zimowy':\n",
    "        list_zimowy.append(str(key))"
   ]
  },
  {
   "cell_type": "code",
   "execution_count": 46,
   "metadata": {},
   "outputs": [],
   "source": [
    "list_letni_to_series = []\n",
    "list_zimowy_to_series = []\n",
    "for existing_date in df.index.values:\n",
    "    if existing_date[:10] in list_letni:\n",
    "        list_letni_to_series.append(1)\n",
    "    else:\n",
    "        list_letni_to_series.append(0)\n",
    "        \n",
    "    if existing_date[:10] in list_zimowy:\n",
    "        list_zimowy_to_series.append(1)\n",
    "    else:\n",
    "        list_zimowy_to_series.append(0)"
   ]
  },
  {
   "cell_type": "code",
   "execution_count": 47,
   "metadata": {},
   "outputs": [],
   "source": [
    "df = pd.concat([\n",
    "    pd.Series(list_zimowy_to_series, name = 'zimowy', index = df.index),\n",
    "    pd.Series(list_letni_to_series, name = 'letni', index = df.index),\n",
    "    df\n",
    "],axis=1)"
   ]
  },
  {
   "cell_type": "code",
   "execution_count": 48,
   "metadata": {},
   "outputs": [
    {
     "data": {
      "text/html": [
       "<div>\n",
       "<style scoped>\n",
       "    .dataframe tbody tr th:only-of-type {\n",
       "        vertical-align: middle;\n",
       "    }\n",
       "\n",
       "    .dataframe tbody tr th {\n",
       "        vertical-align: top;\n",
       "    }\n",
       "\n",
       "    .dataframe thead th {\n",
       "        text-align: right;\n",
       "    }\n",
       "</style>\n",
       "<table border=\"1\" class=\"dataframe\">\n",
       "  <thead>\n",
       "    <tr style=\"text-align: right;\">\n",
       "      <th></th>\n",
       "      <th>zimowy</th>\n",
       "      <th>letni</th>\n",
       "      <th>power_demand</th>\n",
       "      <th>cleaned_power_demand</th>\n",
       "      <th>weather_0</th>\n",
       "      <th>weather_1</th>\n",
       "      <th>weather_2</th>\n",
       "      <th>weather_3</th>\n",
       "      <th>weather_4</th>\n",
       "      <th>weather_5</th>\n",
       "      <th>...</th>\n",
       "      <th>hour_18.0</th>\n",
       "      <th>hour_19.0</th>\n",
       "      <th>hour_20.0</th>\n",
       "      <th>hour_21.0</th>\n",
       "      <th>hour_22.0</th>\n",
       "      <th>hour_23.0</th>\n",
       "      <th>is_holiday</th>\n",
       "      <th>sun_noon_01</th>\n",
       "      <th>daylight_01</th>\n",
       "      <th>civil_twilight_01</th>\n",
       "    </tr>\n",
       "  </thead>\n",
       "  <tbody>\n",
       "    <tr>\n",
       "      <th>2016-01-01 00:00:00</th>\n",
       "      <td>0</td>\n",
       "      <td>0</td>\n",
       "      <td>358.0</td>\n",
       "      <td>358.0</td>\n",
       "      <td>-3.931995</td>\n",
       "      <td>-14.234147</td>\n",
       "      <td>47.836144</td>\n",
       "      <td>1.956469</td>\n",
       "      <td>2.790574</td>\n",
       "      <td>6.069663</td>\n",
       "      <td>...</td>\n",
       "      <td>0.0</td>\n",
       "      <td>0.0</td>\n",
       "      <td>0.0</td>\n",
       "      <td>0.0</td>\n",
       "      <td>0.0</td>\n",
       "      <td>0.0</td>\n",
       "      <td>True</td>\n",
       "      <td>0</td>\n",
       "      <td>0</td>\n",
       "      <td>0</td>\n",
       "    </tr>\n",
       "  </tbody>\n",
       "</table>\n",
       "<p>1 rows × 96 columns</p>\n",
       "</div>"
      ],
      "text/plain": [
       "                     zimowy  letni  power_demand  cleaned_power_demand  \\\n",
       "2016-01-01 00:00:00       0      0         358.0                 358.0   \n",
       "\n",
       "                     weather_0  weather_1  weather_2  weather_3  weather_4  \\\n",
       "2016-01-01 00:00:00  -3.931995 -14.234147  47.836144   1.956469   2.790574   \n",
       "\n",
       "                     weather_5  ...  hour_18.0  hour_19.0  hour_20.0  \\\n",
       "2016-01-01 00:00:00   6.069663  ...        0.0        0.0        0.0   \n",
       "\n",
       "                     hour_21.0  hour_22.0  hour_23.0  is_holiday  sun_noon_01  \\\n",
       "2016-01-01 00:00:00        0.0        0.0        0.0        True            0   \n",
       "\n",
       "                     daylight_01  civil_twilight_01  \n",
       "2016-01-01 00:00:00            0                  0  \n",
       "\n",
       "[1 rows x 96 columns]"
      ]
     },
     "execution_count": 48,
     "metadata": {},
     "output_type": "execute_result"
    }
   ],
   "source": [
    "df.head(1)"
   ]
  },
  {
   "cell_type": "markdown",
   "metadata": {},
   "source": [
    "## Previous values"
   ]
  },
  {
   "cell_type": "code",
   "execution_count": 49,
   "metadata": {},
   "outputs": [],
   "source": [
    "for i in range(1, 5):\n",
    "    df['lag_'+str(i)] = df['cleaned_power_demand'].shift(i)"
   ]
  },
  {
   "cell_type": "code",
   "execution_count": 50,
   "metadata": {},
   "outputs": [
    {
     "data": {
      "text/plain": [
       "28791"
      ]
     },
     "execution_count": 50,
     "metadata": {},
     "output_type": "execute_result"
    }
   ],
   "source": [
    "len(df)"
   ]
  },
  {
   "cell_type": "code",
   "execution_count": 51,
   "metadata": {},
   "outputs": [
    {
     "data": {
      "text/plain": [
       "28787"
      ]
     },
     "execution_count": 51,
     "metadata": {},
     "output_type": "execute_result"
    }
   ],
   "source": [
    "len(df.dropna())"
   ]
  },
  {
   "cell_type": "code",
   "execution_count": 52,
   "metadata": {},
   "outputs": [],
   "source": [
    "df = df.dropna()"
   ]
  },
  {
   "cell_type": "code",
   "execution_count": 53,
   "metadata": {},
   "outputs": [
    {
     "data": {
      "text/plain": [
       "(28787, 100)"
      ]
     },
     "execution_count": 53,
     "metadata": {},
     "output_type": "execute_result"
    }
   ],
   "source": [
    "df.shape"
   ]
  },
  {
   "cell_type": "markdown",
   "metadata": {},
   "source": [
    "### Check for nan values"
   ]
  },
  {
   "cell_type": "code",
   "execution_count": 56,
   "metadata": {},
   "outputs": [
    {
     "data": {
      "text/html": [
       "<div>\n",
       "<style scoped>\n",
       "    .dataframe tbody tr th:only-of-type {\n",
       "        vertical-align: middle;\n",
       "    }\n",
       "\n",
       "    .dataframe tbody tr th {\n",
       "        vertical-align: top;\n",
       "    }\n",
       "\n",
       "    .dataframe thead th {\n",
       "        text-align: right;\n",
       "    }\n",
       "</style>\n",
       "<table border=\"1\" class=\"dataframe\">\n",
       "  <thead>\n",
       "    <tr style=\"text-align: right;\">\n",
       "      <th></th>\n",
       "      <th>zimowy</th>\n",
       "      <th>letni</th>\n",
       "      <th>power_demand</th>\n",
       "      <th>cleaned_power_demand</th>\n",
       "      <th>weather_0</th>\n",
       "      <th>weather_1</th>\n",
       "      <th>weather_2</th>\n",
       "      <th>weather_3</th>\n",
       "      <th>weather_4</th>\n",
       "      <th>weather_5</th>\n",
       "      <th>...</th>\n",
       "      <th>hour_22.0</th>\n",
       "      <th>hour_23.0</th>\n",
       "      <th>is_holiday</th>\n",
       "      <th>sun_noon_01</th>\n",
       "      <th>daylight_01</th>\n",
       "      <th>civil_twilight_01</th>\n",
       "      <th>lag_1</th>\n",
       "      <th>lag_2</th>\n",
       "      <th>lag_3</th>\n",
       "      <th>lag_4</th>\n",
       "    </tr>\n",
       "  </thead>\n",
       "  <tbody>\n",
       "  </tbody>\n",
       "</table>\n",
       "<p>0 rows × 100 columns</p>\n",
       "</div>"
      ],
      "text/plain": [
       "Empty DataFrame\n",
       "Columns: [zimowy, letni, power_demand, cleaned_power_demand, weather_0, weather_1, weather_2, weather_3, weather_4, weather_5, weather_6, weather_7, weather_8, weather_9, weather_10, weather_11, weather_12, weather_13, weather_14, weather_15, weather_16, year_2016.0, year_2017.0, year_2018.0, year_2019.0, month_1.0, month_2.0, month_3.0, month_4.0, month_5.0, month_6.0, month_7.0, month_8.0, month_9.0, month_10.0, month_11.0, month_12.0, day_1.0, day_2.0, day_3.0, day_4.0, day_5.0, day_6.0, day_7.0, day_8.0, day_9.0, day_10.0, day_11.0, day_12.0, day_13.0, day_14.0, day_15.0, day_16.0, day_17.0, day_18.0, day_19.0, day_20.0, day_21.0, day_22.0, day_23.0, day_24.0, day_25.0, day_26.0, day_27.0, day_28.0, day_29.0, day_30.0, day_31.0, hour_0.0, hour_1.0, hour_2.0, hour_3.0, hour_4.0, hour_5.0, hour_6.0, hour_7.0, hour_8.0, hour_9.0, hour_10.0, hour_11.0, hour_12.0, hour_13.0, hour_14.0, hour_15.0, hour_16.0, hour_17.0, hour_18.0, hour_19.0, hour_20.0, hour_21.0, hour_22.0, hour_23.0, is_holiday, sun_noon_01, daylight_01, civil_twilight_01, lag_1, lag_2, lag_3, lag_4]\n",
       "Index: []\n",
       "\n",
       "[0 rows x 100 columns]"
      ]
     },
     "execution_count": 56,
     "metadata": {},
     "output_type": "execute_result"
    }
   ],
   "source": [
    "df[df.isna().any(axis=1)]"
   ]
  },
  {
   "cell_type": "code",
   "execution_count": 57,
   "metadata": {},
   "outputs": [
    {
     "data": {
      "text/html": [
       "<div>\n",
       "<style scoped>\n",
       "    .dataframe tbody tr th:only-of-type {\n",
       "        vertical-align: middle;\n",
       "    }\n",
       "\n",
       "    .dataframe tbody tr th {\n",
       "        vertical-align: top;\n",
       "    }\n",
       "\n",
       "    .dataframe thead th {\n",
       "        text-align: right;\n",
       "    }\n",
       "</style>\n",
       "<table border=\"1\" class=\"dataframe\">\n",
       "  <thead>\n",
       "    <tr style=\"text-align: right;\">\n",
       "      <th></th>\n",
       "      <th>zimowy</th>\n",
       "      <th>letni</th>\n",
       "      <th>power_demand</th>\n",
       "      <th>cleaned_power_demand</th>\n",
       "      <th>weather_0</th>\n",
       "      <th>weather_1</th>\n",
       "      <th>weather_2</th>\n",
       "      <th>weather_3</th>\n",
       "      <th>weather_4</th>\n",
       "      <th>weather_5</th>\n",
       "      <th>...</th>\n",
       "      <th>hour_22.0</th>\n",
       "      <th>hour_23.0</th>\n",
       "      <th>is_holiday</th>\n",
       "      <th>sun_noon_01</th>\n",
       "      <th>daylight_01</th>\n",
       "      <th>civil_twilight_01</th>\n",
       "      <th>lag_1</th>\n",
       "      <th>lag_2</th>\n",
       "      <th>lag_3</th>\n",
       "      <th>lag_4</th>\n",
       "    </tr>\n",
       "  </thead>\n",
       "  <tbody>\n",
       "    <tr>\n",
       "      <th>2019-04-21 19:00:00</th>\n",
       "      <td>0</td>\n",
       "      <td>0</td>\n",
       "      <td>654.0</td>\n",
       "      <td>654.0</td>\n",
       "      <td>-5.492243</td>\n",
       "      <td>56.617952</td>\n",
       "      <td>19.825457</td>\n",
       "      <td>4.497837</td>\n",
       "      <td>4.021408</td>\n",
       "      <td>8.363396</td>\n",
       "      <td>...</td>\n",
       "      <td>0.0</td>\n",
       "      <td>0.0</td>\n",
       "      <td>True</td>\n",
       "      <td>0</td>\n",
       "      <td>1</td>\n",
       "      <td>1</td>\n",
       "      <td>610.0</td>\n",
       "      <td>462.0</td>\n",
       "      <td>498.0</td>\n",
       "      <td>1077.0</td>\n",
       "    </tr>\n",
       "    <tr>\n",
       "      <th>2019-04-21 20:00:00</th>\n",
       "      <td>0</td>\n",
       "      <td>0</td>\n",
       "      <td>653.0</td>\n",
       "      <td>653.0</td>\n",
       "      <td>-5.298556</td>\n",
       "      <td>41.110624</td>\n",
       "      <td>16.760718</td>\n",
       "      <td>0.741096</td>\n",
       "      <td>3.857351</td>\n",
       "      <td>8.596433</td>\n",
       "      <td>...</td>\n",
       "      <td>0.0</td>\n",
       "      <td>0.0</td>\n",
       "      <td>True</td>\n",
       "      <td>0</td>\n",
       "      <td>0</td>\n",
       "      <td>1</td>\n",
       "      <td>654.0</td>\n",
       "      <td>610.0</td>\n",
       "      <td>462.0</td>\n",
       "      <td>498.0</td>\n",
       "    </tr>\n",
       "    <tr>\n",
       "      <th>2019-04-21 21:00:00</th>\n",
       "      <td>0</td>\n",
       "      <td>0</td>\n",
       "      <td>643.0</td>\n",
       "      <td>643.0</td>\n",
       "      <td>-5.061751</td>\n",
       "      <td>24.749107</td>\n",
       "      <td>15.701566</td>\n",
       "      <td>-1.688500</td>\n",
       "      <td>4.027697</td>\n",
       "      <td>9.307752</td>\n",
       "      <td>...</td>\n",
       "      <td>0.0</td>\n",
       "      <td>0.0</td>\n",
       "      <td>True</td>\n",
       "      <td>0</td>\n",
       "      <td>0</td>\n",
       "      <td>0</td>\n",
       "      <td>653.0</td>\n",
       "      <td>654.0</td>\n",
       "      <td>610.0</td>\n",
       "      <td>462.0</td>\n",
       "    </tr>\n",
       "    <tr>\n",
       "      <th>2019-04-21 22:00:00</th>\n",
       "      <td>0</td>\n",
       "      <td>0</td>\n",
       "      <td>581.0</td>\n",
       "      <td>581.0</td>\n",
       "      <td>-4.718970</td>\n",
       "      <td>3.656413</td>\n",
       "      <td>16.490269</td>\n",
       "      <td>-2.435126</td>\n",
       "      <td>5.302838</td>\n",
       "      <td>10.602605</td>\n",
       "      <td>...</td>\n",
       "      <td>1.0</td>\n",
       "      <td>0.0</td>\n",
       "      <td>True</td>\n",
       "      <td>0</td>\n",
       "      <td>0</td>\n",
       "      <td>0</td>\n",
       "      <td>643.0</td>\n",
       "      <td>653.0</td>\n",
       "      <td>654.0</td>\n",
       "      <td>610.0</td>\n",
       "    </tr>\n",
       "    <tr>\n",
       "      <th>2019-04-21 23:00:00</th>\n",
       "      <td>0</td>\n",
       "      <td>0</td>\n",
       "      <td>313.0</td>\n",
       "      <td>313.0</td>\n",
       "      <td>-4.538570</td>\n",
       "      <td>-8.525181</td>\n",
       "      <td>15.698330</td>\n",
       "      <td>-3.373475</td>\n",
       "      <td>5.397675</td>\n",
       "      <td>10.940010</td>\n",
       "      <td>...</td>\n",
       "      <td>0.0</td>\n",
       "      <td>1.0</td>\n",
       "      <td>True</td>\n",
       "      <td>0</td>\n",
       "      <td>0</td>\n",
       "      <td>0</td>\n",
       "      <td>581.0</td>\n",
       "      <td>643.0</td>\n",
       "      <td>653.0</td>\n",
       "      <td>654.0</td>\n",
       "    </tr>\n",
       "  </tbody>\n",
       "</table>\n",
       "<p>5 rows × 100 columns</p>\n",
       "</div>"
      ],
      "text/plain": [
       "                     zimowy  letni  power_demand  cleaned_power_demand  \\\n",
       "2019-04-21 19:00:00       0      0         654.0                 654.0   \n",
       "2019-04-21 20:00:00       0      0         653.0                 653.0   \n",
       "2019-04-21 21:00:00       0      0         643.0                 643.0   \n",
       "2019-04-21 22:00:00       0      0         581.0                 581.0   \n",
       "2019-04-21 23:00:00       0      0         313.0                 313.0   \n",
       "\n",
       "                     weather_0  weather_1  weather_2  weather_3  weather_4  \\\n",
       "2019-04-21 19:00:00  -5.492243  56.617952  19.825457   4.497837   4.021408   \n",
       "2019-04-21 20:00:00  -5.298556  41.110624  16.760718   0.741096   3.857351   \n",
       "2019-04-21 21:00:00  -5.061751  24.749107  15.701566  -1.688500   4.027697   \n",
       "2019-04-21 22:00:00  -4.718970   3.656413  16.490269  -2.435126   5.302838   \n",
       "2019-04-21 23:00:00  -4.538570  -8.525181  15.698330  -3.373475   5.397675   \n",
       "\n",
       "                     weather_5  ...  hour_22.0  hour_23.0  is_holiday  \\\n",
       "2019-04-21 19:00:00   8.363396  ...        0.0        0.0        True   \n",
       "2019-04-21 20:00:00   8.596433  ...        0.0        0.0        True   \n",
       "2019-04-21 21:00:00   9.307752  ...        0.0        0.0        True   \n",
       "2019-04-21 22:00:00  10.602605  ...        1.0        0.0        True   \n",
       "2019-04-21 23:00:00  10.940010  ...        0.0        1.0        True   \n",
       "\n",
       "                     sun_noon_01  daylight_01  civil_twilight_01  lag_1  \\\n",
       "2019-04-21 19:00:00            0            1                  1  610.0   \n",
       "2019-04-21 20:00:00            0            0                  1  654.0   \n",
       "2019-04-21 21:00:00            0            0                  0  653.0   \n",
       "2019-04-21 22:00:00            0            0                  0  643.0   \n",
       "2019-04-21 23:00:00            0            0                  0  581.0   \n",
       "\n",
       "                     lag_2  lag_3   lag_4  \n",
       "2019-04-21 19:00:00  462.0  498.0  1077.0  \n",
       "2019-04-21 20:00:00  610.0  462.0   498.0  \n",
       "2019-04-21 21:00:00  654.0  610.0   462.0  \n",
       "2019-04-21 22:00:00  653.0  654.0   610.0  \n",
       "2019-04-21 23:00:00  643.0  653.0   654.0  \n",
       "\n",
       "[5 rows x 100 columns]"
      ]
     },
     "execution_count": 57,
     "metadata": {},
     "output_type": "execute_result"
    }
   ],
   "source": [
    "df.tail()"
   ]
  },
  {
   "cell_type": "markdown",
   "metadata": {},
   "source": [
    "# Model"
   ]
  },
  {
   "cell_type": "code",
   "execution_count": 58,
   "metadata": {
    "scrolled": true
   },
   "outputs": [],
   "source": [
    "df_to_estimate = df.drop('power_demand', axis = 1)"
   ]
  },
  {
   "cell_type": "code",
   "execution_count": 59,
   "metadata": {},
   "outputs": [
    {
     "data": {
      "text/html": [
       "<div>\n",
       "<style scoped>\n",
       "    .dataframe tbody tr th:only-of-type {\n",
       "        vertical-align: middle;\n",
       "    }\n",
       "\n",
       "    .dataframe tbody tr th {\n",
       "        vertical-align: top;\n",
       "    }\n",
       "\n",
       "    .dataframe thead th {\n",
       "        text-align: right;\n",
       "    }\n",
       "</style>\n",
       "<table border=\"1\" class=\"dataframe\">\n",
       "  <thead>\n",
       "    <tr style=\"text-align: right;\">\n",
       "      <th></th>\n",
       "      <th>zimowy</th>\n",
       "      <th>letni</th>\n",
       "      <th>cleaned_power_demand</th>\n",
       "      <th>weather_0</th>\n",
       "      <th>weather_1</th>\n",
       "      <th>weather_2</th>\n",
       "      <th>weather_3</th>\n",
       "      <th>weather_4</th>\n",
       "      <th>weather_5</th>\n",
       "      <th>weather_6</th>\n",
       "      <th>...</th>\n",
       "      <th>hour_22.0</th>\n",
       "      <th>hour_23.0</th>\n",
       "      <th>is_holiday</th>\n",
       "      <th>sun_noon_01</th>\n",
       "      <th>daylight_01</th>\n",
       "      <th>civil_twilight_01</th>\n",
       "      <th>lag_1</th>\n",
       "      <th>lag_2</th>\n",
       "      <th>lag_3</th>\n",
       "      <th>lag_4</th>\n",
       "    </tr>\n",
       "  </thead>\n",
       "  <tbody>\n",
       "    <tr>\n",
       "      <th>2016-01-01 04:00:00</th>\n",
       "      <td>0</td>\n",
       "      <td>0</td>\n",
       "      <td>346.0</td>\n",
       "      <td>-3.861806</td>\n",
       "      <td>-26.379883</td>\n",
       "      <td>46.173740</td>\n",
       "      <td>2.693569</td>\n",
       "      <td>1.388777</td>\n",
       "      <td>5.893706</td>\n",
       "      <td>9.665513</td>\n",
       "      <td>...</td>\n",
       "      <td>0.0</td>\n",
       "      <td>0.0</td>\n",
       "      <td>True</td>\n",
       "      <td>0</td>\n",
       "      <td>0</td>\n",
       "      <td>0</td>\n",
       "      <td>218.0</td>\n",
       "      <td>176.0</td>\n",
       "      <td>387.0</td>\n",
       "      <td>358.0</td>\n",
       "    </tr>\n",
       "    <tr>\n",
       "      <th>2016-01-01 05:00:00</th>\n",
       "      <td>0</td>\n",
       "      <td>0</td>\n",
       "      <td>259.0</td>\n",
       "      <td>-3.875636</td>\n",
       "      <td>-24.762340</td>\n",
       "      <td>46.728370</td>\n",
       "      <td>3.072289</td>\n",
       "      <td>7.452622</td>\n",
       "      <td>9.778095</td>\n",
       "      <td>-2.279650</td>\n",
       "      <td>...</td>\n",
       "      <td>0.0</td>\n",
       "      <td>0.0</td>\n",
       "      <td>True</td>\n",
       "      <td>0</td>\n",
       "      <td>0</td>\n",
       "      <td>0</td>\n",
       "      <td>346.0</td>\n",
       "      <td>218.0</td>\n",
       "      <td>176.0</td>\n",
       "      <td>387.0</td>\n",
       "    </tr>\n",
       "    <tr>\n",
       "      <th>2016-01-01 06:00:00</th>\n",
       "      <td>0</td>\n",
       "      <td>0</td>\n",
       "      <td>71.0</td>\n",
       "      <td>-3.667504</td>\n",
       "      <td>-26.931482</td>\n",
       "      <td>47.523784</td>\n",
       "      <td>3.243835</td>\n",
       "      <td>-11.630690</td>\n",
       "      <td>11.507264</td>\n",
       "      <td>0.334714</td>\n",
       "      <td>...</td>\n",
       "      <td>0.0</td>\n",
       "      <td>0.0</td>\n",
       "      <td>True</td>\n",
       "      <td>0</td>\n",
       "      <td>0</td>\n",
       "      <td>0</td>\n",
       "      <td>259.0</td>\n",
       "      <td>346.0</td>\n",
       "      <td>218.0</td>\n",
       "      <td>176.0</td>\n",
       "    </tr>\n",
       "  </tbody>\n",
       "</table>\n",
       "<p>3 rows × 99 columns</p>\n",
       "</div>"
      ],
      "text/plain": [
       "                     zimowy  letni  cleaned_power_demand  weather_0  \\\n",
       "2016-01-01 04:00:00       0      0                 346.0  -3.861806   \n",
       "2016-01-01 05:00:00       0      0                 259.0  -3.875636   \n",
       "2016-01-01 06:00:00       0      0                  71.0  -3.667504   \n",
       "\n",
       "                     weather_1  weather_2  weather_3  weather_4  weather_5  \\\n",
       "2016-01-01 04:00:00 -26.379883  46.173740   2.693569   1.388777   5.893706   \n",
       "2016-01-01 05:00:00 -24.762340  46.728370   3.072289   7.452622   9.778095   \n",
       "2016-01-01 06:00:00 -26.931482  47.523784   3.243835 -11.630690  11.507264   \n",
       "\n",
       "                     weather_6  ...  hour_22.0  hour_23.0  is_holiday  \\\n",
       "2016-01-01 04:00:00   9.665513  ...        0.0        0.0        True   \n",
       "2016-01-01 05:00:00  -2.279650  ...        0.0        0.0        True   \n",
       "2016-01-01 06:00:00   0.334714  ...        0.0        0.0        True   \n",
       "\n",
       "                     sun_noon_01  daylight_01  civil_twilight_01  lag_1  \\\n",
       "2016-01-01 04:00:00            0            0                  0  218.0   \n",
       "2016-01-01 05:00:00            0            0                  0  346.0   \n",
       "2016-01-01 06:00:00            0            0                  0  259.0   \n",
       "\n",
       "                     lag_2  lag_3  lag_4  \n",
       "2016-01-01 04:00:00  176.0  387.0  358.0  \n",
       "2016-01-01 05:00:00  218.0  176.0  387.0  \n",
       "2016-01-01 06:00:00  346.0  218.0  176.0  \n",
       "\n",
       "[3 rows x 99 columns]"
      ]
     },
     "execution_count": 59,
     "metadata": {},
     "output_type": "execute_result"
    }
   ],
   "source": [
    "df_to_estimate.head(3)"
   ]
  },
  {
   "cell_type": "markdown",
   "metadata": {},
   "source": [
    "## Data splitting and marks"
   ]
  },
  {
   "cell_type": "code",
   "execution_count": 60,
   "metadata": {},
   "outputs": [
    {
     "data": {
      "text/plain": [
       "(28787, 100)"
      ]
     },
     "execution_count": 60,
     "metadata": {},
     "output_type": "execute_result"
    }
   ],
   "source": [
    "df.shape"
   ]
  },
  {
   "cell_type": "markdown",
   "metadata": {},
   "source": [
    "##### preprocess 'empty' week weather with pca"
   ]
  },
  {
   "cell_type": "code",
   "execution_count": 61,
   "metadata": {},
   "outputs": [],
   "source": [
    "week = pd.read_csv('week.csv').set_index('date_time')"
   ]
  },
  {
   "cell_type": "code",
   "execution_count": 62,
   "metadata": {},
   "outputs": [],
   "source": [
    "week_new_weather = clf.transform(week[weather_cols].values)"
   ]
  },
  {
   "cell_type": "code",
   "execution_count": 63,
   "metadata": {},
   "outputs": [],
   "source": [
    "week_new_weather_df = pd.DataFrame(week_new_weather, index = week.index, columns=['weather_'+str(i) for i in range(17)])"
   ]
  },
  {
   "cell_type": "code",
   "execution_count": 64,
   "metadata": {},
   "outputs": [],
   "source": [
    "processed_week = pd.concat([\n",
    "    week[[col for col in week.columns if col not in weather_cols]],\n",
    "    week_new_weather_df\n",
    "], axis = 1)"
   ]
  },
  {
   "cell_type": "code",
   "execution_count": 65,
   "metadata": {},
   "outputs": [],
   "source": [
    "# There could be some missing columns in next_week (like months or years)\n",
    "for existing_col in df.columns:\n",
    "    if existing_col not in processed_week.columns:\n",
    "        processed_week[existing_col] = 0"
   ]
  },
  {
   "cell_type": "code",
   "execution_count": 66,
   "metadata": {},
   "outputs": [],
   "source": [
    "for next_week_col in processed_week.columns:\n",
    "    if next_week_col not in df.columns:\n",
    "        processed_week = processed_week.drop(next_week_col, axis = 1)"
   ]
  },
  {
   "cell_type": "code",
   "execution_count": 67,
   "metadata": {},
   "outputs": [
    {
     "data": {
      "text/html": [
       "<div>\n",
       "<style scoped>\n",
       "    .dataframe tbody tr th:only-of-type {\n",
       "        vertical-align: middle;\n",
       "    }\n",
       "\n",
       "    .dataframe tbody tr th {\n",
       "        vertical-align: top;\n",
       "    }\n",
       "\n",
       "    .dataframe thead th {\n",
       "        text-align: right;\n",
       "    }\n",
       "</style>\n",
       "<table border=\"1\" class=\"dataframe\">\n",
       "  <thead>\n",
       "    <tr style=\"text-align: right;\">\n",
       "      <th></th>\n",
       "      <th>zimowy</th>\n",
       "      <th>letni</th>\n",
       "      <th>lag_1</th>\n",
       "      <th>lag_2</th>\n",
       "      <th>lag_3</th>\n",
       "      <th>lag_4</th>\n",
       "      <th>year_2019.0</th>\n",
       "      <th>month_4.0</th>\n",
       "      <th>day_22.0</th>\n",
       "      <th>day_23.0</th>\n",
       "      <th>...</th>\n",
       "      <th>day_15.0</th>\n",
       "      <th>day_16.0</th>\n",
       "      <th>day_17.0</th>\n",
       "      <th>day_18.0</th>\n",
       "      <th>day_19.0</th>\n",
       "      <th>day_20.0</th>\n",
       "      <th>day_21.0</th>\n",
       "      <th>day_29.0</th>\n",
       "      <th>day_30.0</th>\n",
       "      <th>day_31.0</th>\n",
       "    </tr>\n",
       "    <tr>\n",
       "      <th>date_time</th>\n",
       "      <th></th>\n",
       "      <th></th>\n",
       "      <th></th>\n",
       "      <th></th>\n",
       "      <th></th>\n",
       "      <th></th>\n",
       "      <th></th>\n",
       "      <th></th>\n",
       "      <th></th>\n",
       "      <th></th>\n",
       "      <th></th>\n",
       "      <th></th>\n",
       "      <th></th>\n",
       "      <th></th>\n",
       "      <th></th>\n",
       "      <th></th>\n",
       "      <th></th>\n",
       "      <th></th>\n",
       "      <th></th>\n",
       "      <th></th>\n",
       "      <th></th>\n",
       "    </tr>\n",
       "  </thead>\n",
       "  <tbody>\n",
       "    <tr>\n",
       "      <th>2019-04-22 00:00:00</th>\n",
       "      <td>0</td>\n",
       "      <td>0</td>\n",
       "      <td>0.0</td>\n",
       "      <td>0.0</td>\n",
       "      <td>0.0</td>\n",
       "      <td>0.0</td>\n",
       "      <td>1.0</td>\n",
       "      <td>1.0</td>\n",
       "      <td>1.0</td>\n",
       "      <td>0.0</td>\n",
       "      <td>...</td>\n",
       "      <td>0</td>\n",
       "      <td>0</td>\n",
       "      <td>0</td>\n",
       "      <td>0</td>\n",
       "      <td>0</td>\n",
       "      <td>0</td>\n",
       "      <td>0</td>\n",
       "      <td>0</td>\n",
       "      <td>0</td>\n",
       "      <td>0</td>\n",
       "    </tr>\n",
       "  </tbody>\n",
       "</table>\n",
       "<p>1 rows × 100 columns</p>\n",
       "</div>"
      ],
      "text/plain": [
       "                     zimowy  letni  lag_1  lag_2  lag_3  lag_4  year_2019.0  \\\n",
       "date_time                                                                     \n",
       "2019-04-22 00:00:00       0      0    0.0    0.0    0.0    0.0          1.0   \n",
       "\n",
       "                     month_4.0  day_22.0  day_23.0  ...  day_15.0  day_16.0  \\\n",
       "date_time                                           ...                       \n",
       "2019-04-22 00:00:00        1.0       1.0       0.0  ...         0         0   \n",
       "\n",
       "                     day_17.0  day_18.0  day_19.0  day_20.0  day_21.0  \\\n",
       "date_time                                                               \n",
       "2019-04-22 00:00:00         0         0         0         0         0   \n",
       "\n",
       "                     day_29.0  day_30.0  day_31.0  \n",
       "date_time                                          \n",
       "2019-04-22 00:00:00         0         0         0  \n",
       "\n",
       "[1 rows x 100 columns]"
      ]
     },
     "execution_count": 67,
     "metadata": {},
     "output_type": "execute_result"
    }
   ],
   "source": [
    "processed_week.head(1)"
   ]
  },
  {
   "cell_type": "code",
   "execution_count": 68,
   "metadata": {},
   "outputs": [
    {
     "data": {
      "text/plain": [
       "(168, 100)"
      ]
     },
     "execution_count": 68,
     "metadata": {},
     "output_type": "execute_result"
    }
   ],
   "source": [
    "processed_week.shape"
   ]
  },
  {
   "cell_type": "code",
   "execution_count": 69,
   "metadata": {},
   "outputs": [
    {
     "data": {
      "text/plain": [
       "(28787, 100)"
      ]
     },
     "execution_count": 69,
     "metadata": {},
     "output_type": "execute_result"
    }
   ],
   "source": [
    "df.shape"
   ]
  },
  {
   "cell_type": "code",
   "execution_count": 70,
   "metadata": {},
   "outputs": [],
   "source": [
    "df = pd.concat([\n",
    "    df,\n",
    "    processed_week[df.columns],\n",
    "])"
   ]
  },
  {
   "cell_type": "code",
   "execution_count": 71,
   "metadata": {},
   "outputs": [],
   "source": [
    "df = df.drop('power_demand', axis = 1)"
   ]
  },
  {
   "cell_type": "code",
   "execution_count": 72,
   "metadata": {},
   "outputs": [],
   "source": [
    "from datetime import datetime as dt"
   ]
  },
  {
   "cell_type": "code",
   "execution_count": 73,
   "metadata": {},
   "outputs": [],
   "source": [
    "week_to_test_and_rsa = dt(2019, 4, 14)\n",
    "week_to_calc_predictions = dt(2019, 4, 21)"
   ]
  },
  {
   "cell_type": "code",
   "execution_count": 74,
   "metadata": {},
   "outputs": [],
   "source": [
    "# up to 2019-04-14 - norm/pca/fs and model training\n",
    "# from 2019-04-14 to 2019-04-21 - every hour predict and learn, calculate rmse\n",
    "# from 2019-04-21 to 2019-04-28 - every hour (just) predict (needed period)"
   ]
  },
  {
   "cell_type": "markdown",
   "metadata": {},
   "source": [
    "### Normalization"
   ]
  },
  {
   "cell_type": "code",
   "execution_count": 75,
   "metadata": {},
   "outputs": [],
   "source": [
    "enable_norm = False"
   ]
  },
  {
   "cell_type": "code",
   "execution_count": 76,
   "metadata": {},
   "outputs": [],
   "source": [
    "from numpy import log, exp\n",
    "enable_logs = False"
   ]
  },
  {
   "cell_type": "code",
   "execution_count": 77,
   "metadata": {},
   "outputs": [],
   "source": [
    "# In order to normalize, do pca and features selection we need to do it only on data\n",
    "# On which model will be trained\n",
    "df_to_preprocess = df[pd.to_datetime(df.index) < week_to_test_and_rsa]\n",
    "df_to_predict = df[pd.to_datetime(df.index) >= week_to_test_and_rsa]"
   ]
  },
  {
   "cell_type": "code",
   "execution_count": 78,
   "metadata": {},
   "outputs": [
    {
     "name": "stdout",
     "output_type": "stream",
     "text": [
      "(28595, 99) (360, 99)\n"
     ]
    }
   ],
   "source": [
    "print(df_to_preprocess.shape, df_to_predict.shape)"
   ]
  },
  {
   "cell_type": "code",
   "execution_count": 79,
   "metadata": {},
   "outputs": [
    {
     "data": {
      "text/plain": [
       "(28955, 99)"
      ]
     },
     "execution_count": 79,
     "metadata": {},
     "output_type": "execute_result"
    }
   ],
   "source": [
    "df.shape"
   ]
  },
  {
   "cell_type": "code",
   "execution_count": 80,
   "metadata": {},
   "outputs": [],
   "source": [
    "# take normalization stats only from train dataset\n",
    "train_stats = df\\\n",
    "    .loc[:, ~df_to_preprocess.columns.isin(['cleaned_power_demand'])]\\\n",
    "    .describe()\n",
    "train_stats = train_stats.transpose()"
   ]
  },
  {
   "cell_type": "code",
   "execution_count": 81,
   "metadata": {},
   "outputs": [],
   "source": [
    "def norm(x):\n",
    "    if enable_norm == True:\n",
    "        return (x - train_stats['mean']) / train_stats['std']\n",
    "    else:\n",
    "        return x"
   ]
  },
  {
   "cell_type": "code",
   "execution_count": 82,
   "metadata": {},
   "outputs": [],
   "source": [
    "train_dataset = norm(df_to_preprocess\\\n",
    "    .loc[:, ~df_to_preprocess.columns.isin(['cleaned_power_demand'])]\n",
    ")\n",
    "if enable_logs == True:\n",
    "    train_labels = log(df_to_preprocess['cleaned_power_demand'])\n",
    "else:\n",
    "    train_labels = df_to_preprocess['cleaned_power_demand']"
   ]
  },
  {
   "cell_type": "code",
   "execution_count": 83,
   "metadata": {},
   "outputs": [],
   "source": [
    "predict_dataset = norm(df_to_predict\\\n",
    "    .loc[:, ~df_to_predict.columns.isin(['cleaned_power_demand'])]\n",
    ")\n",
    "if enable_logs == True:\n",
    "    predict_labels = log(df_to_predict['cleaned_power_demand'])\n",
    "else:\n",
    "    predict_labels = df_to_predict['cleaned_power_demand']"
   ]
  },
  {
   "cell_type": "code",
   "execution_count": 84,
   "metadata": {},
   "outputs": [
    {
     "data": {
      "text/plain": [
       "(28595, 98)"
      ]
     },
     "execution_count": 84,
     "metadata": {},
     "output_type": "execute_result"
    }
   ],
   "source": [
    "train_dataset.shape"
   ]
  },
  {
   "cell_type": "code",
   "execution_count": 85,
   "metadata": {},
   "outputs": [
    {
     "data": {
      "text/plain": [
       "(28595, 98)"
      ]
     },
     "execution_count": 85,
     "metadata": {},
     "output_type": "execute_result"
    }
   ],
   "source": [
    "train_dataset.dropna(1).shape"
   ]
  },
  {
   "cell_type": "code",
   "execution_count": 86,
   "metadata": {},
   "outputs": [
    {
     "data": {
      "text/plain": [
       "(360, 98)"
      ]
     },
     "execution_count": 86,
     "metadata": {},
     "output_type": "execute_result"
    }
   ],
   "source": [
    "predict_dataset.shape"
   ]
  },
  {
   "cell_type": "code",
   "execution_count": 87,
   "metadata": {},
   "outputs": [
    {
     "data": {
      "text/plain": [
       "(360, 98)"
      ]
     },
     "execution_count": 87,
     "metadata": {},
     "output_type": "execute_result"
    }
   ],
   "source": [
    "predict_dataset.dropna(1).shape"
   ]
  },
  {
   "cell_type": "code",
   "execution_count": 88,
   "metadata": {},
   "outputs": [],
   "source": [
    "train_dataset = train_dataset.dropna(1)\n",
    "predict_dataset = predict_dataset.dropna(1)"
   ]
  },
  {
   "cell_type": "code",
   "execution_count": 89,
   "metadata": {},
   "outputs": [
    {
     "data": {
      "text/html": [
       "<div>\n",
       "<style scoped>\n",
       "    .dataframe tbody tr th:only-of-type {\n",
       "        vertical-align: middle;\n",
       "    }\n",
       "\n",
       "    .dataframe tbody tr th {\n",
       "        vertical-align: top;\n",
       "    }\n",
       "\n",
       "    .dataframe thead th {\n",
       "        text-align: right;\n",
       "    }\n",
       "</style>\n",
       "<table border=\"1\" class=\"dataframe\">\n",
       "  <thead>\n",
       "    <tr style=\"text-align: right;\">\n",
       "      <th></th>\n",
       "      <th>zimowy</th>\n",
       "      <th>letni</th>\n",
       "      <th>weather_0</th>\n",
       "      <th>weather_1</th>\n",
       "      <th>weather_2</th>\n",
       "      <th>weather_3</th>\n",
       "      <th>weather_4</th>\n",
       "      <th>weather_5</th>\n",
       "      <th>weather_6</th>\n",
       "      <th>weather_7</th>\n",
       "      <th>...</th>\n",
       "      <th>hour_22.0</th>\n",
       "      <th>hour_23.0</th>\n",
       "      <th>is_holiday</th>\n",
       "      <th>sun_noon_01</th>\n",
       "      <th>daylight_01</th>\n",
       "      <th>civil_twilight_01</th>\n",
       "      <th>lag_1</th>\n",
       "      <th>lag_2</th>\n",
       "      <th>lag_3</th>\n",
       "      <th>lag_4</th>\n",
       "    </tr>\n",
       "  </thead>\n",
       "  <tbody>\n",
       "  </tbody>\n",
       "</table>\n",
       "<p>0 rows × 98 columns</p>\n",
       "</div>"
      ],
      "text/plain": [
       "Empty DataFrame\n",
       "Columns: [zimowy, letni, weather_0, weather_1, weather_2, weather_3, weather_4, weather_5, weather_6, weather_7, weather_8, weather_9, weather_10, weather_11, weather_12, weather_13, weather_14, weather_15, weather_16, year_2016.0, year_2017.0, year_2018.0, year_2019.0, month_1.0, month_2.0, month_3.0, month_4.0, month_5.0, month_6.0, month_7.0, month_8.0, month_9.0, month_10.0, month_11.0, month_12.0, day_1.0, day_2.0, day_3.0, day_4.0, day_5.0, day_6.0, day_7.0, day_8.0, day_9.0, day_10.0, day_11.0, day_12.0, day_13.0, day_14.0, day_15.0, day_16.0, day_17.0, day_18.0, day_19.0, day_20.0, day_21.0, day_22.0, day_23.0, day_24.0, day_25.0, day_26.0, day_27.0, day_28.0, day_29.0, day_30.0, day_31.0, hour_0.0, hour_1.0, hour_2.0, hour_3.0, hour_4.0, hour_5.0, hour_6.0, hour_7.0, hour_8.0, hour_9.0, hour_10.0, hour_11.0, hour_12.0, hour_13.0, hour_14.0, hour_15.0, hour_16.0, hour_17.0, hour_18.0, hour_19.0, hour_20.0, hour_21.0, hour_22.0, hour_23.0, is_holiday, sun_noon_01, daylight_01, civil_twilight_01, lag_1, lag_2, lag_3, lag_4]\n",
       "Index: []\n",
       "\n",
       "[0 rows x 98 columns]"
      ]
     },
     "execution_count": 89,
     "metadata": {},
     "output_type": "execute_result"
    }
   ],
   "source": [
    "train_dataset[train_dataset.isna().any(axis=1)]"
   ]
  },
  {
   "cell_type": "markdown",
   "metadata": {},
   "source": [
    "### Features selection"
   ]
  },
  {
   "cell_type": "code",
   "execution_count": 90,
   "metadata": {},
   "outputs": [],
   "source": [
    "from sklearn.feature_selection import f_regression"
   ]
  },
  {
   "cell_type": "code",
   "execution_count": 91,
   "metadata": {},
   "outputs": [],
   "source": [
    "X, y = train_dataset.values, train_labels.values\n",
    "F, p_val = f_regression(X, y, center = True)"
   ]
  },
  {
   "cell_type": "code",
   "execution_count": 92,
   "metadata": {
    "scrolled": true
   },
   "outputs": [],
   "source": [
    "if_stay_list = [True if x < 0.01 else False for x in p_val]\n",
    "important_cols = train_dataset.columns[if_stay_list]"
   ]
  },
  {
   "cell_type": "code",
   "execution_count": 93,
   "metadata": {},
   "outputs": [],
   "source": [
    "train_dataset = train_dataset[important_cols]\n",
    "predict_dataset = predict_dataset[important_cols]"
   ]
  },
  {
   "cell_type": "code",
   "execution_count": 94,
   "metadata": {},
   "outputs": [],
   "source": [
    "train_dataset = train_dataset.dropna(1)\n",
    "predict_dataset = predict_dataset.dropna(1)"
   ]
  },
  {
   "cell_type": "code",
   "execution_count": 95,
   "metadata": {},
   "outputs": [
    {
     "data": {
      "text/plain": [
       "99"
      ]
     },
     "execution_count": 95,
     "metadata": {},
     "output_type": "execute_result"
    }
   ],
   "source": [
    "len(df_to_estimate.columns)"
   ]
  },
  {
   "cell_type": "code",
   "execution_count": 96,
   "metadata": {},
   "outputs": [
    {
     "data": {
      "text/plain": [
       "54"
      ]
     },
     "execution_count": 96,
     "metadata": {},
     "output_type": "execute_result"
    }
   ],
   "source": [
    "len(important_cols)"
   ]
  },
  {
   "cell_type": "markdown",
   "metadata": {},
   "source": [
    "### Training"
   ]
  },
  {
   "cell_type": "code",
   "execution_count": 97,
   "metadata": {},
   "outputs": [
    {
     "name": "stderr",
     "output_type": "stream",
     "text": [
      "/usr/lib/python3/dist-packages/requests/__init__.py:80: RequestsDependencyWarning: urllib3 (1.25.3) or chardet (3.0.4) doesn't match a supported version!\n",
      "  RequestsDependencyWarning)\n"
     ]
    }
   ],
   "source": [
    "from tensorflow import keras, nn\n",
    "from tensorflow.keras import layers"
   ]
  },
  {
   "cell_type": "code",
   "execution_count": 98,
   "metadata": {},
   "outputs": [
    {
     "name": "stdout",
     "output_type": "stream",
     "text": [
      "WARNING:tensorflow:From /home/jacek/.local/lib/python3.6/site-packages/tensorflow/python/ops/resource_variable_ops.py:435: colocate_with (from tensorflow.python.framework.ops) is deprecated and will be removed in a future version.\n",
      "Instructions for updating:\n",
      "Colocations handled automatically by placer.\n"
     ]
    }
   ],
   "source": [
    "optimizer = keras.optimizers.RMSprop(0.001)"
   ]
  },
  {
   "cell_type": "code",
   "execution_count": 99,
   "metadata": {},
   "outputs": [],
   "source": [
    "model = keras.Sequential([\n",
    "    layers.Dense(64, activation=nn.relu, input_shape=[len(train_dataset.keys())]),\n",
    "    layers.Dense(64, activation=nn.relu),\n",
    "    layers.Dense(1)\n",
    "])"
   ]
  },
  {
   "cell_type": "code",
   "execution_count": 100,
   "metadata": {},
   "outputs": [
    {
     "name": "stdout",
     "output_type": "stream",
     "text": [
      "WARNING:tensorflow:From /home/jacek/.local/lib/python3.6/site-packages/tensorflow/python/keras/utils/losses_utils.py:170: to_float (from tensorflow.python.ops.math_ops) is deprecated and will be removed in a future version.\n",
      "Instructions for updating:\n",
      "Use tf.cast instead.\n"
     ]
    }
   ],
   "source": [
    "model.compile(loss='mean_squared_error',\n",
    "                optimizer=optimizer,\n",
    "                metrics=['mean_absolute_error', 'mean_squared_error'])"
   ]
  },
  {
   "cell_type": "code",
   "execution_count": 101,
   "metadata": {},
   "outputs": [
    {
     "data": {
      "text/plain": [
       "array([[-15.037012 ],\n",
       "       [-41.470997 ],\n",
       "       [-11.385023 ],\n",
       "       [-15.726594 ],\n",
       "       [-21.391907 ],\n",
       "       [-33.939972 ],\n",
       "       [-12.233816 ],\n",
       "       [ -7.9531946],\n",
       "       [-14.781347 ],\n",
       "       [-22.19035  ]], dtype=float32)"
      ]
     },
     "execution_count": 101,
     "metadata": {},
     "output_type": "execute_result"
    }
   ],
   "source": [
    "example_batch = train_dataset[:10]\n",
    "example_result = model.predict(example_batch)\n",
    "example_result"
   ]
  },
  {
   "cell_type": "code",
   "execution_count": 102,
   "metadata": {},
   "outputs": [
    {
     "name": "stdout",
     "output_type": "stream",
     "text": [
      "WARNING:tensorflow:From /home/jacek/.local/lib/python3.6/site-packages/tensorflow/python/ops/math_ops.py:3066: to_int32 (from tensorflow.python.ops.math_ops) is deprecated and will be removed in a future version.\n",
      "Instructions for updating:\n",
      "Use tf.cast instead.\n"
     ]
    }
   ],
   "source": [
    "history = model.fit(\n",
    "    train_dataset, train_labels,\n",
    "    epochs=500, validation_split = 0.2, verbose=0,\n",
    ")\n",
    "hist = pd.DataFrame(history.history)"
   ]
  },
  {
   "cell_type": "code",
   "execution_count": 103,
   "metadata": {},
   "outputs": [
    {
     "data": {
      "text/plain": [
       "array([[200.42453],\n",
       "       [214.83899],\n",
       "       [120.01355],\n",
       "       [ 83.32803],\n",
       "       [231.83862],\n",
       "       [212.95251],\n",
       "       [317.84906],\n",
       "       [422.10648],\n",
       "       [648.56323],\n",
       "       [630.497  ]], dtype=float32)"
      ]
     },
     "execution_count": 103,
     "metadata": {},
     "output_type": "execute_result"
    }
   ],
   "source": [
    "model.predict(predict_dataset[:10])"
   ]
  },
  {
   "cell_type": "markdown",
   "metadata": {},
   "source": [
    "## Fast dummy prediction"
   ]
  },
  {
   "cell_type": "code",
   "execution_count": 104,
   "metadata": {},
   "outputs": [],
   "source": [
    "import matplotlib.pyplot as plt"
   ]
  },
  {
   "cell_type": "code",
   "execution_count": 105,
   "metadata": {},
   "outputs": [
    {
     "data": {
      "image/png": "[encoded data removed]",
      "text/plain": [
       "<Figure size 432x288 with 1 Axes>"
      ]
     },
     "metadata": {},
     "output_type": "display_data"
    }
   ],
   "source": [
    "general_predictions = model.predict(predict_dataset).flatten()\n",
    "\n",
    "if enable_logs == True:\n",
    "    plt.scatter(exp(predict_labels), exp(general_predictions))\n",
    "else:\n",
    "    plt.scatter(predict_labels, general_predictions)\n",
    "plt.ylabel('True Values of power demand')\n",
    "plt.xlabel('Predictions of power demand')\n",
    "plt.axis('equal')\n",
    "plt.axis('square')\n",
    "plt.xlim([0,plt.xlim()[1]])\n",
    "plt.ylim([0,plt.ylim()[1]])\n",
    "plt.plot([-100, 100], [-100, 100]);"
   ]
  },
  {
   "cell_type": "code",
   "execution_count": 106,
   "metadata": {},
   "outputs": [],
   "source": [
    "if enable_logs == True:\n",
    "    dummy_res = pd.concat([\n",
    "        pd.Series(exp(general_predictions), name = 'pred', index = predict_labels.index),\n",
    "        pd.Series(exp(predict_labels), name = 'real', index = predict_labels.index)\n",
    "    ], axis = 1)#.iloc[:200].plot(figsize = (20,10))\n",
    "else:\n",
    "    dummy_res = pd.concat([\n",
    "        pd.Series(general_predictions, name = 'pred', index = predict_labels.index),\n",
    "        pd.Series(predict_labels, name = 'real', index = predict_labels.index)\n",
    "    ], axis = 1)#.iloc[:200].plot(figsize = (20,10))"
   ]
  },
  {
   "cell_type": "code",
   "execution_count": 107,
   "metadata": {},
   "outputs": [
    {
     "data": {
      "text/plain": [
       "<matplotlib.axes._subplots.AxesSubplot at 0x7fad8c07cdd8>"
      ]
     },
     "execution_count": 107,
     "metadata": {},
     "output_type": "execute_result"
    },
    {
     "data": {
      "image/png": "[encoded data removed]",
      "text/plain": [
       "<Figure size 1440x720 with 1 Axes>"
      ]
     },
     "metadata": {},
     "output_type": "display_data"
    }
   ],
   "source": [
    "dummy_res.iloc[:200].plot(figsize = (20,10))"
   ]
  },
  {
   "cell_type": "markdown",
   "metadata": {},
   "source": [
    "## Iterative prediction"
   ]
  },
  {
   "cell_type": "code",
   "execution_count": 108,
   "metadata": {},
   "outputs": [],
   "source": [
    "# Create dict with lag numbers and indexes so we will now which values we have to replace\n",
    "lag_dict = {int(x.replace('lag_', '')):i for i, x in enumerate(predict_dataset.columns) if 'lag' in x}"
   ]
  },
  {
   "cell_type": "code",
   "execution_count": 109,
   "metadata": {},
   "outputs": [
    {
     "data": {
      "text/plain": [
       "{1: 50, 2: 51, 3: 52, 4: 53}"
      ]
     },
     "execution_count": 109,
     "metadata": {},
     "output_type": "execute_result"
    }
   ],
   "source": [
    "lag_dict"
   ]
  },
  {
   "cell_type": "code",
   "execution_count": 110,
   "metadata": {},
   "outputs": [],
   "source": [
    "# Prepare container with first y values so the first next record can have previos values of y to fill in\n",
    "Y_queue = list(train_labels.iloc[-5:].values)"
   ]
  },
  {
   "cell_type": "code",
   "execution_count": 111,
   "metadata": {},
   "outputs": [
    {
     "data": {
      "text/plain": [
       "[739.0, 889.0, 971.0, 480.0, 442.0]"
      ]
     },
     "execution_count": 111,
     "metadata": {},
     "output_type": "execute_result"
    }
   ],
   "source": [
    "Y_queue"
   ]
  },
  {
   "cell_type": "code",
   "execution_count": 112,
   "metadata": {},
   "outputs": [],
   "source": [
    "import numpy as np"
   ]
  },
  {
   "cell_type": "code",
   "execution_count": 113,
   "metadata": {},
   "outputs": [],
   "source": [
    "# So, for the first record in week_to_predict (and first record after those ones with 'static' log_x values)\n",
    "every_day_train_container = []\n",
    "every_day_label_container = []\n",
    "for i, next_record in enumerate(predict_dataset.values):\n",
    "    # Copy features to tmp container\n",
    "    tmp_features_conatiner = next_record\n",
    "    # For log type present in features\n",
    "    for log_number, log_index in lag_dict.items():\n",
    "        # Take previous predicted value\n",
    "        lag_val = Y_queue[-log_number]\n",
    "        # And replace with it current (kind of false) log value\n",
    "        tmp_features_conatiner[log_index] = lag_val\n",
    "    # Predict on updated row\n",
    "    y_pred = model.predict(np.array([tmp_features_conatiner]))\n",
    "    # Append prediction to queue\n",
    "    Y_queue.append(y_pred[0][0])\n",
    "    \n",
    "    # If it is still week where we have real values update model\n",
    "    if predict_labels[i] != 0:\n",
    "    \n",
    "        # append to tmp container to be able to train every 24h easily\n",
    "        every_day_train_container.append(np.array([next_record]))\n",
    "        every_day_label_container.append(predict_labels[i])\n",
    "\n",
    "# remove first 5 real values\n",
    "Y_queue = Y_queue[5:]"
   ]
  },
  {
   "cell_type": "code",
   "execution_count": 114,
   "metadata": {},
   "outputs": [],
   "source": [
    "res = pd.concat([\n",
    "    predict_labels,\n",
    "    pd.Series(Y_queue, index = predict_labels.index, name = 'model_values')\n",
    "], axis = 1)"
   ]
  },
  {
   "cell_type": "code",
   "execution_count": 115,
   "metadata": {},
   "outputs": [],
   "source": [
    "res.loc[res['cleaned_power_demand'] == 0 ,'week'] = 'second'\n",
    "res.loc[res['week'].isna(), 'week'] = 'first'"
   ]
  },
  {
   "cell_type": "code",
   "execution_count": 118,
   "metadata": {},
   "outputs": [
    {
     "data": {
      "text/plain": [
       "<matplotlib.axes._subplots.AxesSubplot at 0x7fad8c069a58>"
      ]
     },
     "execution_count": 118,
     "metadata": {},
     "output_type": "execute_result"
    },
    {
     "data": {
      "image/png": "[encoded data removed]",
      "text/plain": [
       "<Figure size 1440x504 with 1 Axes>"
      ]
     },
     "metadata": {},
     "output_type": "display_data"
    }
   ],
   "source": [
    "res.plot(figsize = (20, 7))"
   ]
  },
  {
   "cell_type": "code",
   "execution_count": 119,
   "metadata": {},
   "outputs": [],
   "source": [
    "res['err'] = (abs(res['cleaned_power_demand'] - res['model_values']) ** 2) ** (1/2)"
   ]
  },
  {
   "cell_type": "code",
   "execution_count": 120,
   "metadata": {},
   "outputs": [
    {
     "data": {
      "text/plain": [
       "141.8765241119033"
      ]
     },
     "execution_count": 120,
     "metadata": {},
     "output_type": "execute_result"
    }
   ],
   "source": [
    "# RMSE dla ostatniego tygodnia gdzie mamy dane, \n",
    "# (czyli okres w którym jako lagi wstawiamy predykcje)\n",
    "# (czyli to po lewej)\n",
    "res[res['cleaned_power_demand'] != 0]['err'].mean()"
   ]
  },
  {
   "cell_type": "code",
   "execution_count": null,
   "metadata": {},
   "outputs": [],
   "source": []
  }
 ],
 "metadata": {
  "kernelspec": {
   "display_name": "Python 3",
   "language": "python",
   "name": "python3"
  },
  "language_info": {
   "codemirror_mode": {
    "name": "ipython",
    "version": 3
   },
   "file_extension": ".py",
   "mimetype": "text/x-python",
   "name": "python",
   "nbconvert_exporter": "python",
   "pygments_lexer": "ipython3",
   "version": "3.7.2"
  }
 },
 "nbformat": 4,
 "nbformat_minor": 2
}
